{
  "nbformat": 4,
  "nbformat_minor": 0,
  "metadata": {
    "colab": {
      "name": "TF-Getting-Started-M5-Simple-Fashion-MNIST.ipynb",
      "provenance": [],
      "collapsed_sections": [],
      "include_colab_link": true
    },
    "kernelspec": {
      "name": "python3",
      "display_name": "Python 3"
    },
    "accelerator": "GPU"
  },
  "cells": [
    {
      "cell_type": "markdown",
      "metadata": {
        "id": "view-in-github",
        "colab_type": "text"
      },
      "source": [
        "<a href=\"https://colab.research.google.com/github/JerryKurata/First-NN-Tensorflow/blob/master/TF_Getting_Started_M5_Simple_Fashion_MNIST.ipynb\" target=\"_parent\"><img src=\"https://colab.research.google.com/assets/colab-badge.svg\" alt=\"Open In Colab\"/></a>"
      ]
    },
    {
      "cell_type": "markdown",
      "metadata": {
        "id": "bC7-g3yGJCdW",
        "colab_type": "text"
      },
      "source": [
        "# Simple MNIST-Fashion Neural Network\n",
        "\n",
        "This notebook implements a simple NN consisting of two dense layers, and uses this network to classify MNIST-Fashion images.\n",
        "\n",
        "These MNIST-Fashion images consist of clothing items from these  ten classes. (*T-shirt/top, Trouser, Pullover, Dress, Coat, Sandal, Shirt, Sneaker, Bag, Ankle boot)*"
      ]
    },
    {
      "cell_type": "code",
      "metadata": {
        "id": "Mk_Hhp90I2BB",
        "colab_type": "code",
        "outputId": "9ab387fe-542e-40be-a547-88c989b61ab4",
        "colab": {
          "base_uri": "https://localhost:8080/",
          "height": 531
        }
      },
      "source": [
        ""
      ],
      "execution_count": 0,
      "outputs": [
        {
          "output_type": "stream",
          "text": [
            "Collecting tensorflow-gpu==2.0.0-beta1\n",
            "\u001b[?25l  Downloading https://files.pythonhosted.org/packages/2b/53/e18c5e7a2263d3581a979645a185804782e59b8e13f42b9c3c3cfb5bb503/tensorflow_gpu-2.0.0b1-cp36-cp36m-manylinux1_x86_64.whl (348.9MB)\n",
            "\u001b[K     |████████████████████████████████| 348.9MB 72kB/s \n",
            "\u001b[?25hCollecting tb-nightly<1.14.0a20190604,>=1.14.0a20190603 (from tensorflow-gpu==2.0.0-beta1)\n",
            "\u001b[?25l  Downloading https://files.pythonhosted.org/packages/a4/96/571b875cd81dda9d5dfa1422a4f9d749e67c0a8d4f4f0b33a4e5f5f35e27/tb_nightly-1.14.0a20190603-py3-none-any.whl (3.1MB)\n",
            "\u001b[K     |████████████████████████████████| 3.1MB 36.0MB/s \n",
            "\u001b[?25hRequirement already satisfied: six>=1.10.0 in /usr/local/lib/python3.6/dist-packages (from tensorflow-gpu==2.0.0-beta1) (1.12.0)\n",
            "Collecting tf-estimator-nightly<1.14.0.dev2019060502,>=1.14.0.dev2019060501 (from tensorflow-gpu==2.0.0-beta1)\n",
            "\u001b[?25l  Downloading https://files.pythonhosted.org/packages/32/dd/99c47dd007dcf10d63fd895611b063732646f23059c618a373e85019eb0e/tf_estimator_nightly-1.14.0.dev2019060501-py2.py3-none-any.whl (496kB)\n",
            "\u001b[K     |████████████████████████████████| 501kB 42.4MB/s \n",
            "\u001b[?25hRequirement already satisfied: termcolor>=1.1.0 in /usr/local/lib/python3.6/dist-packages (from tensorflow-gpu==2.0.0-beta1) (1.1.0)\n",
            "Requirement already satisfied: wrapt>=1.11.1 in /usr/local/lib/python3.6/dist-packages (from tensorflow-gpu==2.0.0-beta1) (1.11.2)\n",
            "Requirement already satisfied: grpcio>=1.8.6 in /usr/local/lib/python3.6/dist-packages (from tensorflow-gpu==2.0.0-beta1) (1.15.0)\n",
            "Requirement already satisfied: google-pasta>=0.1.6 in /usr/local/lib/python3.6/dist-packages (from tensorflow-gpu==2.0.0-beta1) (0.1.7)\n",
            "Requirement already satisfied: protobuf>=3.6.1 in /usr/local/lib/python3.6/dist-packages (from tensorflow-gpu==2.0.0-beta1) (3.7.1)\n",
            "Requirement already satisfied: astor>=0.6.0 in /usr/local/lib/python3.6/dist-packages (from tensorflow-gpu==2.0.0-beta1) (0.8.0)\n",
            "Requirement already satisfied: keras-applications>=1.0.6 in /usr/local/lib/python3.6/dist-packages (from tensorflow-gpu==2.0.0-beta1) (1.0.8)\n",
            "Requirement already satisfied: numpy<2.0,>=1.14.5 in /usr/local/lib/python3.6/dist-packages (from tensorflow-gpu==2.0.0-beta1) (1.16.4)\n",
            "Requirement already satisfied: keras-preprocessing>=1.0.5 in /usr/local/lib/python3.6/dist-packages (from tensorflow-gpu==2.0.0-beta1) (1.1.0)\n",
            "Requirement already satisfied: gast>=0.2.0 in /usr/local/lib/python3.6/dist-packages (from tensorflow-gpu==2.0.0-beta1) (0.2.2)\n",
            "Requirement already satisfied: wheel>=0.26 in /usr/local/lib/python3.6/dist-packages (from tensorflow-gpu==2.0.0-beta1) (0.33.4)\n",
            "Requirement already satisfied: absl-py>=0.7.0 in /usr/local/lib/python3.6/dist-packages (from tensorflow-gpu==2.0.0-beta1) (0.7.1)\n",
            "Requirement already satisfied: markdown>=2.6.8 in /usr/local/lib/python3.6/dist-packages (from tb-nightly<1.14.0a20190604,>=1.14.0a20190603->tensorflow-gpu==2.0.0-beta1) (3.1.1)\n",
            "Requirement already satisfied: setuptools>=41.0.0 in /usr/local/lib/python3.6/dist-packages (from tb-nightly<1.14.0a20190604,>=1.14.0a20190603->tensorflow-gpu==2.0.0-beta1) (41.0.1)\n",
            "Requirement already satisfied: werkzeug>=0.11.15 in /usr/local/lib/python3.6/dist-packages (from tb-nightly<1.14.0a20190604,>=1.14.0a20190603->tensorflow-gpu==2.0.0-beta1) (0.15.5)\n",
            "Requirement already satisfied: h5py in /usr/local/lib/python3.6/dist-packages (from keras-applications>=1.0.6->tensorflow-gpu==2.0.0-beta1) (2.8.0)\n",
            "Installing collected packages: tb-nightly, tf-estimator-nightly, tensorflow-gpu\n",
            "Successfully installed tb-nightly-1.14.0a20190603 tensorflow-gpu-2.0.0b1 tf-estimator-nightly-1.14.0.dev2019060501\n"
          ],
          "name": "stdout"
        }
      ]
    },
    {
      "cell_type": "markdown",
      "metadata": {
        "id": "Sy_y_E9_NFc8",
        "colab_type": "text"
      },
      "source": [
        "## Import Libraries\n",
        "\n",
        "We import TensorFlow, Numpy, and matplotlib libraries.  \n",
        "\n",
        "Numpy is a powerful N-dimensional array library that\n",
        "allows us to easily create and manipulate arrays of data, and more!\n",
        "\n",
        "Numpy also allows us to convert TensorFlow's native data structures,\n",
        "to python native data types.\n",
        "\n",
        "matplotlib is a graphics plot library"
      ]
    },
    {
      "cell_type": "code",
      "metadata": {
        "id": "RgDK_bJeJpua",
        "colab_type": "code",
        "colab": {}
      },
      "source": [
        "# Import libraries\n",
        "import tensorflow as tf\n",
        "import numpy as np\n",
        "import matplotlib.pyplot as plt\n"
      ],
      "execution_count": 0,
      "outputs": []
    },
    {
      "cell_type": "markdown",
      "metadata": {
        "id": "EMWdw_E_QPhY",
        "colab_type": "text"
      },
      "source": [
        "## Problem Statement\n",
        "\n",
        "Using example data, train a model that will correctly predict the class of images of fashion items.\n",
        "\n"
      ]
    },
    {
      "cell_type": "markdown",
      "metadata": {
        "id": "N49Xfo21RTr9",
        "colab_type": "text"
      },
      "source": [
        "## Get Data\n",
        "\n",
        "In this example we will be using a truncated version of the Ames dataset that only contains information on homes sold in May 2010.\n",
        "\n",
        "### About the Fashion MNIST dataset\n",
        "\n",
        "The Fashion MNIST dataset is widely available data set.   It is documented at the https://github.com/zalandoresearch/fashion-mnist\n",
        "\n",
        "Each image in the dataset is 28 X 28 pixels.  The pixel values are a grayscale with values ranging from 0 to 255.\n",
        "\n",
        "Associated with each image is a number from 0 to 9 specifying the class of the fashion item in the image.  The values for the class are:\n",
        "\n",
        "| Label | Description |\n",
        "|-------|-------------|\n",
        "| 0     | T-shirt/top |\n",
        "|   1    | Trouser    | \n",
        "|  2     |  Pullover  |\n",
        "|   3    |    Dress    |\n",
        "|    4   |    Coat      |\n",
        "|   5    | Sandal     |\n",
        "|   6    | Shirt         |\n",
        "|    7   |  Sneaker  |\n",
        "|   8    |  Bag          |\n",
        "|  9     | Ankle Boot |\n",
        "\n",
        "There are 60,000 Training examples and 10,000 Testing examples. \n",
        "\n",
        "Fashion-MNIST is one of the dataset provided with Keras in Tensorflow.  Keras provides a load_data() method that will download the data sets of 60,000 Training images and their corresponding 60,000 labels, and 10,000 Test images and their corresponding 10,000 labels."
      ]
    },
    {
      "cell_type": "code",
      "metadata": {
        "id": "1MMs613GNLe4",
        "colab_type": "code",
        "outputId": "52f32be5-f83e-41dd-eb42-1ac2fda2497c",
        "colab": {
          "base_uri": "https://localhost:8080/",
          "height": 164
        }
      },
      "source": [
        "fashion_mnist = tf.keras.datasets.fashion_mnist\n",
        "(train_images, train_labels), (test_images, test_labels) = fashion_mnist.load_data()"
      ],
      "execution_count": 0,
      "outputs": [
        {
          "output_type": "stream",
          "text": [
            "Downloading data from https://storage.googleapis.com/tensorflow/tf-keras-datasets/train-labels-idx1-ubyte.gz\n",
            "32768/29515 [=================================] - 0s 0us/step\n",
            "Downloading data from https://storage.googleapis.com/tensorflow/tf-keras-datasets/train-images-idx3-ubyte.gz\n",
            "26427392/26421880 [==============================] - 1s 0us/step\n",
            "Downloading data from https://storage.googleapis.com/tensorflow/tf-keras-datasets/t10k-labels-idx1-ubyte.gz\n",
            "8192/5148 [===============================================] - 0s 0us/step\n",
            "Downloading data from https://storage.googleapis.com/tensorflow/tf-keras-datasets/t10k-images-idx3-ubyte.gz\n",
            "4423680/4422102 [==============================] - 0s 0us/step\n"
          ],
          "name": "stdout"
        }
      ]
    },
    {
      "cell_type": "markdown",
      "metadata": {
        "id": "oAcxPIjJkLKZ",
        "colab_type": "text"
      },
      "source": [
        "## Explore the data\n",
        "\n",
        "Let's look at our data."
      ]
    },
    {
      "cell_type": "code",
      "metadata": {
        "id": "Umx96CdYV-yz",
        "colab_type": "code",
        "outputId": "4a633918-63d4-4dbd-a01b-8c680cf23328",
        "colab": {
          "base_uri": "https://localhost:8080/",
          "height": 35
        }
      },
      "source": [
        "# Print the shape of the data tensors we loaded.  Should be:\n",
        "#   60,000 training 28X28 images and their labels, and 10,000 testing images and their labels\n",
        "print (train_images.shape, train_labels.shape, test_images.shape, test_labels.shape)"
      ],
      "execution_count": 0,
      "outputs": [
        {
          "output_type": "stream",
          "text": [
            "(60000, 28, 28) (60000,) (10000, 28, 28) (10000,)\n"
          ],
          "name": "stdout"
        }
      ]
    },
    {
      "cell_type": "markdown",
      "metadata": {
        "id": "4Jq_XBs9Xa6C",
        "colab_type": "text"
      },
      "source": [
        "## Inspect data\n",
        "Each image should have be 28 X 28 image and have a gray scale value of 0-255. Let's display an arbitrary image.\n",
        "\n",
        "You should see:  \n",
        "* A title that specifies the class of image, whose description is shown on the table above.\n",
        "* The image \n",
        "* The 28 by 28 width and height pixel index \n",
        "* and on the right the gray associated with the specified pixel values."
      ]
    },
    {
      "cell_type": "code",
      "metadata": {
        "id": "ni0bRFhjWP1y",
        "colab_type": "code",
        "colab": {}
      },
      "source": [
        "def show_training_image(index):\n",
        "\n",
        "  plt.figure()\n",
        "  plt.title(\"Image Label = \" + str(train_labels[index]))\n",
        "  plt.imshow(train_images[index], cmap='gray')  # data is grayscale, but displays in color without cmap='gray'\n",
        "  plt.colorbar()\n",
        "  plt.show()\n"
      ],
      "execution_count": 0,
      "outputs": []
    },
    {
      "cell_type": "code",
      "metadata": {
        "id": "gJa1Wq_4acop",
        "colab_type": "code",
        "outputId": "537b6ef5-105f-4f40-bec8-abb8175bb1b2",
        "colab": {
          "base_uri": "https://localhost:8080/",
          "height": 281
        }
      },
      "source": [
        "img_index = 100\n",
        "show_training_image(img_index)"
      ],
      "execution_count": 0,
      "outputs": [
        {
          "output_type": "display_data",
          "data": {
            "image/png": "[encoded data removed]",
            "text/plain": [
              "<Figure size 432x288 with 2 Axes>"
            ]
          },
          "metadata": {
            "tags": []
          }
        }
      ]
    },
    {
      "cell_type": "markdown",
      "metadata": {
        "id": "Db_TW6wccWHw",
        "colab_type": "text"
      },
      "source": [
        "## Pre-process the data\n",
        "\n",
        "As usually we need to do some pre-processing of the data.  Here we want to scale the pixels values from 0 to 255 to 0.0 to 1.0.  We need scale both the training and testing image values"
      ]
    },
    {
      "cell_type": "code",
      "metadata": {
        "id": "o0vDE9tBYUWx",
        "colab_type": "code",
        "outputId": "21636aca-a98d-4fb4-95b2-6c3a8124a690",
        "colab": {
          "base_uri": "https://localhost:8080/",
          "height": 281
        }
      },
      "source": [
        "# scale training and testing image values\n",
        "train_images = train_images / 255.0\n",
        "test_images = test_images / 255.0\n",
        "# Print the image again and notice the values now range from 0 to 1.\n",
        "#   And the image looks the same, just on a different scale.\n",
        "show_training_image(img_index)"
      ],
      "execution_count": 0,
      "outputs": [
        {
          "output_type": "display_data",
          "data": {
            "image/png": "[encoded data removed]",
            "text/plain": [
              "<Figure size 432x288 with 2 Axes>"
            ]
          },
          "metadata": {
            "tags": []
          }
        }
      ]
    },
    {
      "cell_type": "markdown",
      "metadata": {
        "id": "ZAAj8oXkeBsY",
        "colab_type": "text"
      },
      "source": [
        "## Create the model\n",
        "\n",
        "We can now create the model we are going to train with the data.\n",
        "\n",
        "This will be a simple model that:\n",
        "* first flattens the 28 X 28 pixel values into a long stream of 28 by 28 = 784 pixel values - Note this is a Keras layer but is not a neural network layer.  \n",
        "* Then passes each pixel value as the input to each of the 128 Neurons in the first Hidden layer\n",
        "* and finally passes the last layer than contains 10 nuerons, one for each of the ten classes (t-shirt, pullover, etc).  Each of these nuerons uses the Softmax activation function to determine the probability that the image is each class.  The final output from the model is a vector of probabilites that the image of each class.  Such as :\n",
        "[0.1, 0.05, 0.04, 0.06, 0.50, 0.20, 0.05, 0.05, 0.03, 0.07].  This example vector adds up to 1.0 and shows the probability that the image is class 0 (T-shirt/top) is 0.1 (10%), class 1 (Trousers) is 0.05 (5%), class 2 (Pullover) is 0.04 (4%), ....\n"
      ]
    },
    {
      "cell_type": "code",
      "metadata": {
        "id": "0N2R893MdSZn",
        "colab_type": "code",
        "colab": {}
      },
      "source": [
        "\n",
        "model = tf.keras.models.Sequential()      # Create a new sequential model\n",
        "model.add(tf.keras.layers.Flatten(input_shape=(28,28)))    # keras processing layer - no neurons\n",
        "model.add(tf.keras.layers.Dense(128, activation='relu'))   # 128 nuerons connected to pixels\n",
        "model.add(tf.keras.layers.Dense(10, activation='softmax')) # determine probability of each of the 10 classes\n"
      ],
      "execution_count": 0,
      "outputs": []
    },
    {
      "cell_type": "markdown",
      "metadata": {
        "id": "6nu2185LTBq8",
        "colab_type": "text"
      },
      "source": [
        "## Structure of the model\n",
        "\n",
        "To make it easy for use to visualize the model, Keras models have a summary.  When we call it we see our model structure,  \n",
        "\n"
      ]
    },
    {
      "cell_type": "code",
      "metadata": {
        "id": "0gXXuAqQURdH",
        "colab_type": "code",
        "outputId": "bd153e4a-9cb0-4193-94d8-d2aee8faa660",
        "colab": {
          "base_uri": "https://localhost:8080/",
          "height": 293
        }
      },
      "source": [
        "print(model.summary())"
      ],
      "execution_count": 0,
      "outputs": [
        {
          "output_type": "stream",
          "text": [
            "Model: \"sequential\"\n",
            "_________________________________________________________________\n",
            "Layer (type)                 Output Shape              Param #   \n",
            "=================================================================\n",
            "flatten (Flatten)            (None, 784)               0         \n",
            "_________________________________________________________________\n",
            "dense (Dense)                (None, 128)               100480    \n",
            "_________________________________________________________________\n",
            "dense_1 (Dense)              (None, 10)                1290      \n",
            "=================================================================\n",
            "Total params: 101,770\n",
            "Trainable params: 101,770\n",
            "Non-trainable params: 0\n",
            "_________________________________________________________________\n",
            "None\n"
          ],
          "name": "stdout"
        }
      ]
    },
    {
      "cell_type": "markdown",
      "metadata": {
        "id": "BJTmzxCJ3Bpi",
        "colab_type": "text"
      },
      "source": [
        "## Compile the model\n",
        "\n",
        "Before we can train the model we need to  specify how the model will learn from the training data.  To do this we specify:\n",
        "*  loss - how we measure loss (error).  We will use sparse_categorical_crossentropy, which measure how often the model incorrectly predicted the class.  We want this low.\n",
        "*     optimizer - how the model will update the models' weights to reduce the loss\n",
        "* metrics  - the metrics evaluate during training and testing\n",
        "\n"
      ]
    },
    {
      "cell_type": "code",
      "metadata": {
        "id": "TW9pZ8kw2Nid",
        "colab_type": "code",
        "colab": {}
      },
      "source": [
        "model.compile(optimizer='adam',\n",
        "              loss='sparse_categorical_crossentropy',\n",
        "              metrics=['accuracy'])\n"
      ],
      "execution_count": 0,
      "outputs": []
    },
    {
      "cell_type": "markdown",
      "metadata": {
        "id": "T7wyz8jh6ZA6",
        "colab_type": "text"
      },
      "source": [
        "## Train the Model\n",
        "Now that we have our data and model, and have specified how the model will learn from the data we can train it."
      ]
    },
    {
      "cell_type": "code",
      "metadata": {
        "id": "osxdZq5y6qF1",
        "colab_type": "code",
        "outputId": "2292792d-c022-403a-e6c6-5b2f6d86552c",
        "colab": {
          "base_uri": "https://localhost:8080/",
          "height": 1000
        }
      },
      "source": [
        "train_hist = model.fit(train_images, train_labels, epochs=100)"
      ],
      "execution_count": 0,
      "outputs": [
        {
          "output_type": "stream",
          "text": [
            "WARNING: Logging before flag parsing goes to stderr.\n",
            "W0809 13:57:58.910664 140586074568576 deprecation.py:323] From /usr/local/lib/python3.6/dist-packages/tensorflow/python/ops/math_grad.py:1250: add_dispatch_support.<locals>.wrapper (from tensorflow.python.ops.array_ops) is deprecated and will be removed in a future version.\n",
            "Instructions for updating:\n",
            "Use tf.where in 2.0, which has the same broadcast rule as np.where\n"
          ],
          "name": "stderr"
        },
        {
          "output_type": "stream",
          "text": [
            "Train on 60000 samples\n",
            "Epoch 1/100\n",
            "60000/60000 [==============================] - 7s 112us/sample - loss: 0.5053 - accuracy: 0.8227\n",
            "Epoch 2/100\n",
            "60000/60000 [==============================] - 6s 100us/sample - loss: 0.3790 - accuracy: 0.8625\n",
            "Epoch 3/100\n",
            "60000/60000 [==============================] - 6s 100us/sample - loss: 0.3395 - accuracy: 0.8767\n",
            "Epoch 4/100\n",
            "60000/60000 [==============================] - 6s 100us/sample - loss: 0.3155 - accuracy: 0.8849\n",
            "Epoch 5/100\n",
            "60000/60000 [==============================] - 6s 100us/sample - loss: 0.2989 - accuracy: 0.8894\n",
            "Epoch 6/100\n",
            "60000/60000 [==============================] - 6s 100us/sample - loss: 0.2823 - accuracy: 0.8958\n",
            "Epoch 7/100\n",
            "60000/60000 [==============================] - 6s 100us/sample - loss: 0.2719 - accuracy: 0.8994\n",
            "Epoch 8/100\n",
            "60000/60000 [==============================] - 6s 100us/sample - loss: 0.2599 - accuracy: 0.9043\n",
            "Epoch 9/100\n",
            "60000/60000 [==============================] - 6s 99us/sample - loss: 0.2497 - accuracy: 0.9073\n",
            "Epoch 10/100\n",
            "60000/60000 [==============================] - 6s 100us/sample - loss: 0.2419 - accuracy: 0.9095\n",
            "Epoch 11/100\n",
            "60000/60000 [==============================] - 6s 103us/sample - loss: 0.2316 - accuracy: 0.9129\n",
            "Epoch 12/100\n",
            "60000/60000 [==============================] - 6s 100us/sample - loss: 0.2265 - accuracy: 0.9147\n",
            "Epoch 13/100\n",
            "60000/60000 [==============================] - 6s 100us/sample - loss: 0.2191 - accuracy: 0.9166\n",
            "Epoch 14/100\n",
            "60000/60000 [==============================] - 6s 100us/sample - loss: 0.2108 - accuracy: 0.9215\n",
            "Epoch 15/100\n",
            "60000/60000 [==============================] - 6s 100us/sample - loss: 0.2039 - accuracy: 0.9241\n",
            "Epoch 16/100\n",
            "60000/60000 [==============================] - 6s 102us/sample - loss: 0.1986 - accuracy: 0.9259\n",
            "Epoch 17/100\n",
            "60000/60000 [==============================] - 6s 101us/sample - loss: 0.1943 - accuracy: 0.9280\n",
            "Epoch 18/100\n",
            "60000/60000 [==============================] - 6s 101us/sample - loss: 0.1901 - accuracy: 0.9297\n",
            "Epoch 19/100\n",
            "60000/60000 [==============================] - 6s 100us/sample - loss: 0.1839 - accuracy: 0.9317\n",
            "Epoch 20/100\n",
            "60000/60000 [==============================] - 6s 101us/sample - loss: 0.1793 - accuracy: 0.9326\n",
            "Epoch 21/100\n",
            "60000/60000 [==============================] - 6s 101us/sample - loss: 0.1764 - accuracy: 0.9341\n",
            "Epoch 22/100\n",
            "60000/60000 [==============================] - 6s 101us/sample - loss: 0.1730 - accuracy: 0.9345\n",
            "Epoch 23/100\n",
            "60000/60000 [==============================] - 6s 100us/sample - loss: 0.1674 - accuracy: 0.9358\n",
            "Epoch 24/100\n",
            "60000/60000 [==============================] - 6s 101us/sample - loss: 0.1636 - accuracy: 0.9387\n",
            "Epoch 25/100\n",
            "60000/60000 [==============================] - 6s 103us/sample - loss: 0.1599 - accuracy: 0.9392\n",
            "Epoch 26/100\n",
            "60000/60000 [==============================] - 6s 100us/sample - loss: 0.1578 - accuracy: 0.9415\n",
            "Epoch 27/100\n",
            "60000/60000 [==============================] - 6s 101us/sample - loss: 0.1525 - accuracy: 0.9428\n",
            "Epoch 28/100\n",
            "60000/60000 [==============================] - 6s 100us/sample - loss: 0.1512 - accuracy: 0.9435\n",
            "Epoch 29/100\n",
            "60000/60000 [==============================] - 6s 101us/sample - loss: 0.1475 - accuracy: 0.9453\n",
            "Epoch 30/100\n",
            "60000/60000 [==============================] - 6s 102us/sample - loss: 0.1448 - accuracy: 0.9454\n",
            "Epoch 31/100\n",
            "60000/60000 [==============================] - 6s 100us/sample - loss: 0.1419 - accuracy: 0.9473\n",
            "Epoch 32/100\n",
            "60000/60000 [==============================] - 6s 100us/sample - loss: 0.1375 - accuracy: 0.9481\n",
            "Epoch 33/100\n",
            "60000/60000 [==============================] - 6s 106us/sample - loss: 0.1357 - accuracy: 0.9485\n",
            "Epoch 34/100\n",
            "60000/60000 [==============================] - 7s 112us/sample - loss: 0.1322 - accuracy: 0.9504\n",
            "Epoch 35/100\n",
            "60000/60000 [==============================] - 6s 107us/sample - loss: 0.1295 - accuracy: 0.9514\n",
            "Epoch 36/100\n",
            "60000/60000 [==============================] - 6s 101us/sample - loss: 0.1278 - accuracy: 0.9517\n",
            "Epoch 37/100\n",
            "60000/60000 [==============================] - 6s 102us/sample - loss: 0.1263 - accuracy: 0.9526\n",
            "Epoch 38/100\n",
            "60000/60000 [==============================] - 6s 100us/sample - loss: 0.1237 - accuracy: 0.9538\n",
            "Epoch 39/100\n",
            "60000/60000 [==============================] - 6s 103us/sample - loss: 0.1212 - accuracy: 0.9549\n",
            "Epoch 40/100\n",
            "60000/60000 [==============================] - 6s 103us/sample - loss: 0.1184 - accuracy: 0.9553\n",
            "Epoch 41/100\n",
            "60000/60000 [==============================] - 6s 100us/sample - loss: 0.1165 - accuracy: 0.9557\n",
            "Epoch 42/100\n",
            "60000/60000 [==============================] - 6s 100us/sample - loss: 0.1159 - accuracy: 0.9571\n",
            "Epoch 43/100\n",
            "60000/60000 [==============================] - 6s 101us/sample - loss: 0.1100 - accuracy: 0.9609\n",
            "Epoch 44/100\n",
            "60000/60000 [==============================] - 6s 100us/sample - loss: 0.1123 - accuracy: 0.9577\n",
            "Epoch 45/100\n",
            "60000/60000 [==============================] - 6s 99us/sample - loss: 0.1079 - accuracy: 0.9590\n",
            "Epoch 46/100\n",
            "60000/60000 [==============================] - 6s 101us/sample - loss: 0.1085 - accuracy: 0.9596\n",
            "Epoch 47/100\n",
            "60000/60000 [==============================] - 6s 100us/sample - loss: 0.1055 - accuracy: 0.9601\n",
            "Epoch 48/100\n",
            "60000/60000 [==============================] - 6s 101us/sample - loss: 0.1017 - accuracy: 0.9610\n",
            "Epoch 49/100\n",
            "60000/60000 [==============================] - 6s 100us/sample - loss: 0.0989 - accuracy: 0.9634\n",
            "Epoch 50/100\n",
            "60000/60000 [==============================] - 6s 100us/sample - loss: 0.1012 - accuracy: 0.9620\n",
            "Epoch 51/100\n",
            "60000/60000 [==============================] - 6s 100us/sample - loss: 0.0982 - accuracy: 0.9631\n",
            "Epoch 52/100\n",
            "60000/60000 [==============================] - 6s 99us/sample - loss: 0.0965 - accuracy: 0.9642\n",
            "Epoch 53/100\n",
            "60000/60000 [==============================] - 6s 99us/sample - loss: 0.0955 - accuracy: 0.9637\n",
            "Epoch 54/100\n",
            "60000/60000 [==============================] - 6s 100us/sample - loss: 0.0961 - accuracy: 0.9639\n",
            "Epoch 55/100\n",
            "60000/60000 [==============================] - 6s 100us/sample - loss: 0.0914 - accuracy: 0.9665\n",
            "Epoch 56/100\n",
            "60000/60000 [==============================] - 6s 100us/sample - loss: 0.0928 - accuracy: 0.9656\n",
            "Epoch 57/100\n",
            "60000/60000 [==============================] - 6s 100us/sample - loss: 0.0901 - accuracy: 0.9667\n",
            "Epoch 58/100\n",
            "60000/60000 [==============================] - 6s 99us/sample - loss: 0.0868 - accuracy: 0.9678\n",
            "Epoch 59/100\n",
            "60000/60000 [==============================] - 6s 99us/sample - loss: 0.0892 - accuracy: 0.9668\n",
            "Epoch 60/100\n",
            "60000/60000 [==============================] - 6s 103us/sample - loss: 0.0875 - accuracy: 0.9673\n",
            "Epoch 61/100\n",
            "60000/60000 [==============================] - 6s 101us/sample - loss: 0.0875 - accuracy: 0.9674\n",
            "Epoch 62/100\n",
            "60000/60000 [==============================] - 6s 99us/sample - loss: 0.0842 - accuracy: 0.9683\n",
            "Epoch 63/100\n",
            "60000/60000 [==============================] - 6s 100us/sample - loss: 0.0825 - accuracy: 0.9684\n",
            "Epoch 64/100\n",
            "60000/60000 [==============================] - 6s 100us/sample - loss: 0.0813 - accuracy: 0.9700\n",
            "Epoch 65/100\n",
            "60000/60000 [==============================] - 6s 100us/sample - loss: 0.0799 - accuracy: 0.9702\n",
            "Epoch 66/100\n",
            "60000/60000 [==============================] - 6s 100us/sample - loss: 0.0791 - accuracy: 0.9710\n",
            "Epoch 67/100\n",
            "60000/60000 [==============================] - 6s 99us/sample - loss: 0.0781 - accuracy: 0.9710\n",
            "Epoch 68/100\n",
            "60000/60000 [==============================] - 6s 100us/sample - loss: 0.0776 - accuracy: 0.9706\n",
            "Epoch 69/100\n",
            "60000/60000 [==============================] - 6s 100us/sample - loss: 0.0774 - accuracy: 0.9709\n",
            "Epoch 70/100\n",
            "60000/60000 [==============================] - 6s 100us/sample - loss: 0.0752 - accuracy: 0.9718\n",
            "Epoch 71/100\n",
            "60000/60000 [==============================] - 6s 100us/sample - loss: 0.0757 - accuracy: 0.9719\n",
            "Epoch 72/100\n",
            "60000/60000 [==============================] - 6s 100us/sample - loss: 0.0745 - accuracy: 0.9725\n",
            "Epoch 73/100\n",
            "60000/60000 [==============================] - 6s 99us/sample - loss: 0.0709 - accuracy: 0.9730\n",
            "Epoch 74/100\n",
            "60000/60000 [==============================] - 6s 100us/sample - loss: 0.0714 - accuracy: 0.9736\n",
            "Epoch 75/100\n",
            "60000/60000 [==============================] - 6s 101us/sample - loss: 0.0716 - accuracy: 0.9732\n",
            "Epoch 76/100\n",
            "60000/60000 [==============================] - 6s 100us/sample - loss: 0.0674 - accuracy: 0.9749\n",
            "Epoch 77/100\n",
            "60000/60000 [==============================] - 6s 100us/sample - loss: 0.0698 - accuracy: 0.9742\n",
            "Epoch 78/100\n",
            "60000/60000 [==============================] - 6s 100us/sample - loss: 0.0702 - accuracy: 0.9739\n",
            "Epoch 79/100\n",
            "60000/60000 [==============================] - 6s 101us/sample - loss: 0.0668 - accuracy: 0.9747\n",
            "Epoch 80/100\n",
            "60000/60000 [==============================] - 6s 100us/sample - loss: 0.0675 - accuracy: 0.9748\n",
            "Epoch 81/100\n",
            "60000/60000 [==============================] - 6s 101us/sample - loss: 0.0669 - accuracy: 0.9752\n",
            "Epoch 82/100\n",
            "60000/60000 [==============================] - 6s 101us/sample - loss: 0.0643 - accuracy: 0.9766\n",
            "Epoch 83/100\n",
            "60000/60000 [==============================] - 6s 101us/sample - loss: 0.0641 - accuracy: 0.9759\n",
            "Epoch 84/100\n",
            "60000/60000 [==============================] - 6s 107us/sample - loss: 0.0627 - accuracy: 0.9770\n",
            "Epoch 85/100\n",
            "60000/60000 [==============================] - 6s 105us/sample - loss: 0.0620 - accuracy: 0.9765\n",
            "Epoch 86/100\n",
            "60000/60000 [==============================] - 6s 108us/sample - loss: 0.0599 - accuracy: 0.9772\n",
            "Epoch 87/100\n",
            "60000/60000 [==============================] - 6s 100us/sample - loss: 0.0610 - accuracy: 0.9772\n",
            "Epoch 88/100\n",
            "60000/60000 [==============================] - 6s 100us/sample - loss: 0.0619 - accuracy: 0.9770\n",
            "Epoch 89/100\n",
            "60000/60000 [==============================] - 6s 100us/sample - loss: 0.0588 - accuracy: 0.9783\n",
            "Epoch 90/100\n",
            "60000/60000 [==============================] - 6s 100us/sample - loss: 0.0622 - accuracy: 0.9762\n",
            "Epoch 91/100\n",
            "60000/60000 [==============================] - 6s 100us/sample - loss: 0.0573 - accuracy: 0.9784\n",
            "Epoch 92/100\n",
            "60000/60000 [==============================] - 6s 100us/sample - loss: 0.0602 - accuracy: 0.9775\n",
            "Epoch 93/100\n",
            "60000/60000 [==============================] - 6s 99us/sample - loss: 0.0578 - accuracy: 0.9788\n",
            "Epoch 94/100\n",
            "60000/60000 [==============================] - 6s 99us/sample - loss: 0.0566 - accuracy: 0.9790\n",
            "Epoch 95/100\n",
            "60000/60000 [==============================] - 6s 100us/sample - loss: 0.0586 - accuracy: 0.9776\n",
            "Epoch 96/100\n",
            "60000/60000 [==============================] - 6s 100us/sample - loss: 0.0527 - accuracy: 0.9803\n",
            "Epoch 97/100\n",
            "60000/60000 [==============================] - 6s 101us/sample - loss: 0.0569 - accuracy: 0.9788\n",
            "Epoch 98/100\n",
            "60000/60000 [==============================] - 6s 100us/sample - loss: 0.0552 - accuracy: 0.9797\n",
            "Epoch 99/100\n",
            "60000/60000 [==============================] - 6s 100us/sample - loss: 0.0548 - accuracy: 0.9795\n",
            "Epoch 100/100\n",
            "60000/60000 [==============================] - 6s 101us/sample - loss: 0.0547 - accuracy: 0.9797\n"
          ],
          "name": "stdout"
        }
      ]
    },
    {
      "cell_type": "markdown",
      "metadata": {
        "id": "R2TLdEfR9tus",
        "colab_type": "text"
      },
      "source": [
        "Plot the training to makes sure it is convering."
      ]
    },
    {
      "cell_type": "code",
      "metadata": {
        "id": "5hCztJ2o90DS",
        "colab_type": "code",
        "colab": {}
      },
      "source": [
        "def plot_acc(hist):\n",
        "  # plot the accuracy\n",
        "  plt.title('Accuracy History')\n",
        "  plt.plot(hist.history['accuracy'])\n",
        "  plt.ylabel('Accuracy')\n",
        "  plt.xlabel('epoch')\n",
        "  plt.show()\n",
        "  \n",
        "def plot_loss(hist):\n",
        "  # plot the loss\n",
        "  plt.title('Loss History')\n",
        "  plt.plot(hist.history['loss'])\n",
        "  plt.ylabel('loss')\n",
        "  plt.xlabel('epoch')\n",
        "  plt.show()\n",
        "\n"
      ],
      "execution_count": 0,
      "outputs": []
    },
    {
      "cell_type": "code",
      "metadata": {
        "id": "Zljp5aHqv514",
        "colab_type": "code",
        "outputId": "a9005712-18dd-495f-af6d-62abdf1e320e",
        "colab": {
          "base_uri": "https://localhost:8080/",
          "height": 573
        }
      },
      "source": [
        "plot_loss(train_hist)\n",
        "plot_acc(train_hist)"
      ],
      "execution_count": 0,
      "outputs": [
        {
          "output_type": "display_data",
          "data": {
            "image/png": "[encoded data removed]",
            "text/plain": [
              "<Figure size 432x288 with 1 Axes>"
            ]
          },
          "metadata": {
            "tags": []
          }
        },
        {
          "output_type": "display_data",
          "data": {
            "image/png": "[encoded data removed]",
            "text/plain": [
              "<Figure size 432x288 with 1 Axes>"
            ]
          },
          "metadata": {
            "tags": []
          }
        }
      ]
    },
    {
      "cell_type": "markdown",
      "metadata": {
        "id": "0WOXQpc99Ttj",
        "colab_type": "text"
      },
      "source": [
        "## Evaluate the Trained model on the test data\n",
        "\n",
        "Once we have the model trained, we need to see how it will perform on data that it was not trained on, that is, test data. \n",
        "\n",
        "We do this with keras' evaluation function and the test dataset we retrieved earlier.\n"
      ]
    },
    {
      "cell_type": "code",
      "metadata": {
        "id": "9yEEjOV69uay",
        "colab_type": "code",
        "colab": {}
      },
      "source": [
        "test_loss, test_acc = model.evaluate(test_images, test_labels)"
      ],
      "execution_count": 0,
      "outputs": []
    },
    {
      "cell_type": "markdown",
      "metadata": {
        "id": "rFRxp6zA98ww",
        "colab_type": "text"
      },
      "source": [
        ""
      ]
    },
    {
      "cell_type": "code",
      "metadata": {
        "id": "xXWvu1-M92vh",
        "colab_type": "code",
        "colab": {}
      },
      "source": [
        "print(\"max training accuracy:\", max(train_hist.history['accuracy']), \"  test accuracy:\", test_acc)"
      ],
      "execution_count": 0,
      "outputs": []
    },
    {
      "cell_type": "markdown",
      "metadata": {
        "id": "nAB01AmFAYw6",
        "colab_type": "text"
      },
      "source": [
        "## Training Results\n",
        "\n",
        "The model has over 98% accuracy on the training data.  And 88% accuracy on a test images on which it was not trained.  This is a classic sign that the model overfits the training data.  \n",
        "\n",
        "We need to determine how we can reduce this overfitting and get **good accuracy on both training and test data!**\n",
        "\n",
        "\n"
      ]
    }
  ]
}