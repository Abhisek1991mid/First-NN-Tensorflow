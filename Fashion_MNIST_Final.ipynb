{
  "nbformat": 4,
  "nbformat_minor": 0,
  "metadata": {
    "colab": {
      "name": "Fashion_MNIST_Final.ipynb",
      "provenance": [],
      "collapsed_sections": [],
      "include_colab_link": true
    },
    "kernelspec": {
      "name": "python3",
      "display_name": "Python 3"
    },
    "accelerator": "GPU"
  },
  "cells": [
    {
      "cell_type": "markdown",
      "metadata": {
        "id": "view-in-github",
        "colab_type": "text"
      },
      "source": [
        "<a href=\"https://colab.research.google.com/github/JerryKurata/First-NN-Tensorflow/blob/master/Fashion_MNIST_Final.ipynb\" target=\"_parent\"><img src=\"https://colab.research.google.com/assets/colab-badge.svg\" alt=\"Open In Colab\"/></a>"
      ]
    },
    {
      "cell_type": "markdown",
      "metadata": {
        "id": "bC7-g3yGJCdW",
        "colab_type": "text"
      },
      "source": [
        "# Simple MNIST-Fashion Neural Network\n",
        "\n",
        "This notebook implements a simple NN consisting of two dense layers, and uses this network to classify MNIST-Fashion images.\n",
        "\n",
        "These MNIST-Fashion images consist of clothing items from these  ten classes. (*T-shirt/top, Trouser, Pullover, Dress, Coat, Sandal, Shirt, Sneaker, Bag, Ankle boot)*"
      ]
    },
    {
      "cell_type": "markdown",
      "metadata": {
        "id": "tL0ZtKVL6NN4",
        "colab_type": "text"
      },
      "source": [
        "Load correct version of TensorFlow\n",
        "\n",
        "Before we use TensorFlow we must load the correct version. We want version 2.x. To do this we execute the colab commands below. Note that these commands ONLY WORK IN COLAB."
      ]
    },
    {
      "cell_type": "code",
      "metadata": {
        "id": "leSo_zfF6QXV",
        "colab_type": "code",
        "outputId": "446b7ed1-e70a-4b0f-ffe0-8295ff83e972",
        "colab": {
          "base_uri": "https://localhost:8080/",
          "height": 34
        }
      },
      "source": [
        "# Install TensorFlow using Colab's tensorflow_version command\n",
        "try:\n",
        "  # %tensorflow_version only exists in Colab.\n",
        "  %tensorflow_version 2.x\n",
        "except Exception:\n",
        "  pass\n"
      ],
      "execution_count": 0,
      "outputs": [
        {
          "output_type": "stream",
          "text": [
            "TensorFlow 2.x selected.\n"
          ],
          "name": "stdout"
        }
      ]
    },
    {
      "cell_type": "markdown",
      "metadata": {
        "id": "Sy_y_E9_NFc8",
        "colab_type": "text"
      },
      "source": [
        "## Import Libraries\n",
        "\n",
        "We import TensorFlow, Numpy, and matplotlib libraries.  \n",
        "\n",
        "Numpy is a powerful N-dimensional array library that\n",
        "allows us to easily create and manipulate arrays of data, and more!\n",
        "\n",
        "Numpy also allows us to convert TensorFlow's native data structures,\n",
        "to python native data types.\n",
        "\n",
        "matplotlib is a graphics plotting library"
      ]
    },
    {
      "cell_type": "code",
      "metadata": {
        "id": "RgDK_bJeJpua",
        "colab_type": "code",
        "colab": {}
      },
      "source": [
        "# Import libraries\n",
        "import tensorflow as tf\n",
        "import numpy as np\n",
        "import matplotlib.pyplot as plt\n"
      ],
      "execution_count": 0,
      "outputs": []
    },
    {
      "cell_type": "markdown",
      "metadata": {
        "id": "EMWdw_E_QPhY",
        "colab_type": "text"
      },
      "source": [
        "## Problem Statement\n",
        "\n",
        "Using example data, train a model that will correctly predict the class of images of fashion items.\n",
        "\n"
      ]
    },
    {
      "cell_type": "markdown",
      "metadata": {
        "id": "N49Xfo21RTr9",
        "colab_type": "text"
      },
      "source": [
        "## Get Data\n",
        "\n",
        "In this example we will be using a truncated version of the Ames dataset that only contains information on homes sold in May 2010.\n",
        "\n",
        "### About the Fashion MNIST dataset\n",
        "\n",
        "The Fashion MNIST dataset is widely available data set.   It is documented at the https://github.com/zalandoresearch/fashion-mnist\n",
        "\n",
        "Each image in the dataset is 28 X 28 pixels.  The pixel values are a grayscale with values ranging from 0 to 255.\n",
        "\n",
        "Associated with each image is a number from 0 to 9 specifying the class of the fashion item in the image.  The values for the class are:\n",
        "\n",
        "| Label | Description |\n",
        "|-------|-------------|\n",
        "| 0     | T-shirt/top |\n",
        "|   1    | Trouser    | \n",
        "|  2     |  Pullover  |\n",
        "|   3    |    Dress    |\n",
        "|    4   |    Coat      |\n",
        "|   5    | Sandal     |\n",
        "|   6    | Shirt         |\n",
        "|    7   |  Sneaker  |\n",
        "|   8    |  Bag          |\n",
        "|  9     | Ankle Boot |\n",
        "\n",
        "There are 60,000 Training examples and 10,000 Testing examples. \n",
        "\n",
        "Fashion-MNIST is one of the dataset provided with Keras in Tensorflow.  Keras provides a load_data() method that will download the data sets of 60,000 Training images and their corresponding 60,000 labels, and 10,000 Test images and their corresponding 10,000 labels."
      ]
    },
    {
      "cell_type": "code",
      "metadata": {
        "id": "1MMs613GNLe4",
        "colab_type": "code",
        "colab": {}
      },
      "source": [
        "fashion_mnist = tf.keras.datasets.fashion_mnist\n",
        "(train_images, train_labels), (test_images, test_labels) = fashion_mnist.load_data()"
      ],
      "execution_count": 0,
      "outputs": []
    },
    {
      "cell_type": "markdown",
      "metadata": {
        "id": "oAcxPIjJkLKZ",
        "colab_type": "text"
      },
      "source": [
        "## Explore the data\n",
        "\n",
        "Let's look at our data."
      ]
    },
    {
      "cell_type": "code",
      "metadata": {
        "id": "Umx96CdYV-yz",
        "colab_type": "code",
        "outputId": "fd80fdca-0b84-4851-f0ef-a13be4cdc894",
        "colab": {
          "base_uri": "https://localhost:8080/",
          "height": 51
        }
      },
      "source": [
        "# Print the shape of the data tensors we loaded.  Should be:\n",
        "#   60,000 training 28X28 images and their labels, and 10,000 testing images and their labels\n",
        "print (\"Training data:\", train_images.shape, train_labels.shape)\n",
        "print (\"Test data:\", test_images.shape, test_labels.shape)"
      ],
      "execution_count": 0,
      "outputs": [
        {
          "output_type": "stream",
          "text": [
            "Training data: (60000, 28, 28) (60000,)\n",
            "Test data: (10000, 28, 28) (10000,)\n"
          ],
          "name": "stdout"
        }
      ]
    },
    {
      "cell_type": "markdown",
      "metadata": {
        "id": "4Jq_XBs9Xa6C",
        "colab_type": "text"
      },
      "source": [
        "## Inspect data\n",
        "Each image should have be 28 X 28 image and have a gray scale value of 0-255. Let's display an arbitrary image.\n",
        "\n",
        "You should see:  \n",
        "* A title that specifies the class of image, whose description is shown on the table above.\n",
        "* The image \n",
        "* The 28 by 28 width and height pixel index \n",
        "* and on the right the gray associated with the specified pixel values."
      ]
    },
    {
      "cell_type": "code",
      "metadata": {
        "id": "ni0bRFhjWP1y",
        "colab_type": "code",
        "colab": {}
      },
      "source": [
        "def show_training_image(index):\n",
        "\n",
        "  plt.figure()\n",
        "  plt.title(\"Image Label = \" + str(train_labels[index]))\n",
        "  plt.imshow(train_images[index], cmap='gray')  # data is grayscale, but displays in color without cmap='gray'\n",
        "  plt.colorbar()\n",
        "  plt.show()\n"
      ],
      "execution_count": 0,
      "outputs": []
    },
    {
      "cell_type": "code",
      "metadata": {
        "id": "gJa1Wq_4acop",
        "colab_type": "code",
        "outputId": "9105ed10-52e2-4c90-9843-1c65707d61a4",
        "colab": {
          "base_uri": "https://localhost:8080/",
          "height": 281
        }
      },
      "source": [
        "img_index = 100\n",
        "show_training_image(img_index)"
      ],
      "execution_count": 0,
      "outputs": [
        {
          "output_type": "display_data",
          "data": {
            "image/png": "[encoded data removed]",
            "text/plain": [
              "<Figure size 432x288 with 2 Axes>"
            ]
          },
          "metadata": {
            "tags": []
          }
        }
      ]
    },
    {
      "cell_type": "markdown",
      "metadata": {
        "id": "Db_TW6wccWHw",
        "colab_type": "text"
      },
      "source": [
        "## Pre-process the data\n",
        "\n",
        "As usually we need to do some pre-processing of the data.  Here we want to scale the pixels values from 0 to 255 to 0.0 to 1.0.  We need scale both the training and testing image values"
      ]
    },
    {
      "cell_type": "code",
      "metadata": {
        "id": "o0vDE9tBYUWx",
        "colab_type": "code",
        "outputId": "4fe0b0e8-7a30-4863-8f83-dcc070fe9d87",
        "colab": {
          "base_uri": "https://localhost:8080/",
          "height": 281
        }
      },
      "source": [
        "# scale training and testing image values\n",
        "train_images = train_images / 255.0\n",
        "test_images = test_images / 255.0\n",
        "# Print the image again and notice the values now range from 0 to 1.\n",
        "#   And the image looks the same, just on a different scale.\n",
        "show_training_image(img_index)"
      ],
      "execution_count": 0,
      "outputs": [
        {
          "output_type": "display_data",
          "data": {
            "image/png": "[encoded data removed]",
            "text/plain": [
              "<Figure size 432x288 with 2 Axes>"
            ]
          },
          "metadata": {
            "tags": []
          }
        }
      ]
    },
    {
      "cell_type": "markdown",
      "metadata": {
        "id": "ZAAj8oXkeBsY",
        "colab_type": "text"
      },
      "source": [
        "## Create the model\n",
        "\n",
        "We can now create the model we are going to train with the data.\n",
        "\n",
        "This will be a simple model that:\n",
        "* Flattens the 28 X 28 pixel values into a long stream of 28 by 28 = 784 pixel values - Note this is a Keras layer but is not a neural network layer. Notice the input_shape parameters contains only the shape of a single data element.  There are n data elements each with this same shape. \n",
        "* Passes each pixel value as the input to each of the 128 Neurons.  \n",
        "* And finally passes the last layer than contains 10 nuerons, one for each of the ten classes (t-shirt, pullover, etc).  Each of these nuerons uses the Softmax activation function to determine the probability that the image is each class.  The final output from the model is a vector of probabilites that the image of each class.  Such as :\n",
        "[0.1, 0.05, 0.04, 0.06, 0.50, 0.20, 0.05, 0.05, 0.03, 0.07].  This example vector adds up to 1.0 and shows the probability that the image is class 0 (T-shirt/top) is 0.1 (10%), class 1 (Trousers) is 0.05 (5%), class 2 (Pullover) is 0.04 (4%), ....\n"
      ]
    },
    {
      "cell_type": "code",
      "metadata": {
        "id": "0N2R893MdSZn",
        "colab_type": "code",
        "colab": {}
      },
      "source": [
        "\n",
        "model = tf.keras.models.Sequential()      # Create a new sequential model\n",
        "model.add(tf.keras.layers.Flatten(input_shape=(28,28)))    # keras processing layer - no neurons\n",
        "model.add(tf.keras.layers.Dense(128, activation='relu', name=\"dense-128-relu\"))   # 128 nuerons connected to pixels\n",
        "model.add(tf.keras.layers.Dense(10, activation='softmax', name=\"dense-10-softmax\")) # determine probability of each of the 10 classes\n"
      ],
      "execution_count": 0,
      "outputs": []
    },
    {
      "cell_type": "markdown",
      "metadata": {
        "id": "6nu2185LTBq8",
        "colab_type": "text"
      },
      "source": [
        "## Structure of the model\n",
        "\n",
        "To make it easy for use to visualize the model, Keras models have a summary.  When we call it we see our model structure  \n",
        "\n",
        "For completeness we also show the shape of the input data to the 1st layer in the model.\n"
      ]
    },
    {
      "cell_type": "code",
      "metadata": {
        "id": "0gXXuAqQURdH",
        "colab_type": "code",
        "outputId": "f8d25f2d-867f-42fd-adf6-98c9fde09737",
        "colab": {
          "base_uri": "https://localhost:8080/",
          "height": 306
        }
      },
      "source": [
        "print(\"Input Shape:\", train_images.shape)\n",
        "print()\n",
        "print(model.summary())"
      ],
      "execution_count": 0,
      "outputs": [
        {
          "output_type": "stream",
          "text": [
            "Input Shape: (60000, 28, 28)\n",
            "\n",
            "Model: \"sequential\"\n",
            "_________________________________________________________________\n",
            "Layer (type)                 Output Shape              Param #   \n",
            "=================================================================\n",
            "flatten (Flatten)            (None, 784)               0         \n",
            "_________________________________________________________________\n",
            "dense-128-relu (Dense)       (None, 128)               100480    \n",
            "_________________________________________________________________\n",
            "dense-10-softmax (Dense)     (None, 10)                1290      \n",
            "=================================================================\n",
            "Total params: 101,770\n",
            "Trainable params: 101,770\n",
            "Non-trainable params: 0\n",
            "_________________________________________________________________\n",
            "None\n"
          ],
          "name": "stdout"
        }
      ]
    },
    {
      "cell_type": "markdown",
      "metadata": {
        "id": "BJTmzxCJ3Bpi",
        "colab_type": "text"
      },
      "source": [
        "## Compile the model\n",
        "\n",
        "Before we can train the model we need to  specify how the model will learn from the training data.  To do this we specify:\n",
        "*  loss - how we measure loss (error).  We will use sparse_categorical_crossentropy, which determines the highest predicted class and calculates loss based on how often this is the correct class.\n",
        "*     optimizer - how the model will update the models' weights to reduce the loss.  We use the Adam variant of Mini-batch Gradient Descent.\n",
        "* metrics  - the metrics used for evaluation of training and test.  In this case, how of often the images are correctly classified.  Higher is better. (1.00 would be perfect (100%), 0,75 = 75%, 0.25 = 25%, ...) \n"
      ]
    },
    {
      "cell_type": "code",
      "metadata": {
        "id": "TW9pZ8kw2Nid",
        "colab_type": "code",
        "colab": {}
      },
      "source": [
        "model.compile(optimizer='adam',\n",
        "              loss='sparse_categorical_crossentropy',\n",
        "              metrics=['accuracy'])\n"
      ],
      "execution_count": 0,
      "outputs": []
    },
    {
      "cell_type": "markdown",
      "metadata": {
        "id": "T7wyz8jh6ZA6",
        "colab_type": "text"
      },
      "source": [
        "## Train the Model\n",
        "Now that we have our data and model, and have specified how the model will learn from the data we can train it."
      ]
    },
    {
      "cell_type": "code",
      "metadata": {
        "id": "osxdZq5y6qF1",
        "colab_type": "code",
        "outputId": "c44f2c14-d8bf-4edb-e8d9-2854a1c4acda",
        "colab": {
          "base_uri": "https://localhost:8080/",
          "height": 1000
        }
      },
      "source": [
        "train_hist = model.fit(train_images, train_labels, epochs=100)"
      ],
      "execution_count": 0,
      "outputs": [
        {
          "output_type": "stream",
          "text": [
            "Train on 60000 samples\n",
            "Epoch 1/100\n",
            "60000/60000 [==============================] - 7s 114us/sample - loss: 0.4960 - accuracy: 0.8259\n",
            "Epoch 2/100\n",
            "60000/60000 [==============================] - 6s 93us/sample - loss: 0.3732 - accuracy: 0.8663\n",
            "Epoch 3/100\n",
            "60000/60000 [==============================] - 6s 96us/sample - loss: 0.3338 - accuracy: 0.8787\n",
            "Epoch 4/100\n",
            "60000/60000 [==============================] - 6s 94us/sample - loss: 0.3113 - accuracy: 0.8861\n",
            "Epoch 5/100\n",
            "60000/60000 [==============================] - 6s 93us/sample - loss: 0.2954 - accuracy: 0.8908\n",
            "Epoch 6/100\n",
            "60000/60000 [==============================] - 6s 94us/sample - loss: 0.2789 - accuracy: 0.8964\n",
            "Epoch 7/100\n",
            "60000/60000 [==============================] - 6s 93us/sample - loss: 0.2672 - accuracy: 0.9004\n",
            "Epoch 8/100\n",
            "60000/60000 [==============================] - 6s 96us/sample - loss: 0.2549 - accuracy: 0.9049\n",
            "Epoch 9/100\n",
            "60000/60000 [==============================] - 6s 93us/sample - loss: 0.2468 - accuracy: 0.9085\n",
            "Epoch 10/100\n",
            "60000/60000 [==============================] - 6s 96us/sample - loss: 0.2350 - accuracy: 0.9128\n",
            "Epoch 11/100\n",
            "60000/60000 [==============================] - 6s 93us/sample - loss: 0.2299 - accuracy: 0.9139\n",
            "Epoch 12/100\n",
            "60000/60000 [==============================] - 6s 95us/sample - loss: 0.2204 - accuracy: 0.9175\n",
            "Epoch 13/100\n",
            "60000/60000 [==============================] - 6s 93us/sample - loss: 0.2151 - accuracy: 0.9195\n",
            "Epoch 14/100\n",
            "60000/60000 [==============================] - 6s 94us/sample - loss: 0.2078 - accuracy: 0.9219\n",
            "Epoch 15/100\n",
            "60000/60000 [==============================] - 6s 96us/sample - loss: 0.2015 - accuracy: 0.9250\n",
            "Epoch 16/100\n",
            "60000/60000 [==============================] - 6s 96us/sample - loss: 0.1976 - accuracy: 0.9256\n",
            "Epoch 17/100\n",
            "60000/60000 [==============================] - 6s 96us/sample - loss: 0.1929 - accuracy: 0.9277\n",
            "Epoch 18/100\n",
            "60000/60000 [==============================] - 6s 94us/sample - loss: 0.1861 - accuracy: 0.9307\n",
            "Epoch 19/100\n",
            "60000/60000 [==============================] - 6s 94us/sample - loss: 0.1792 - accuracy: 0.9333\n",
            "Epoch 20/100\n",
            "60000/60000 [==============================] - 6s 95us/sample - loss: 0.1756 - accuracy: 0.9343\n",
            "Epoch 21/100\n",
            "60000/60000 [==============================] - 6s 95us/sample - loss: 0.1731 - accuracy: 0.9352\n",
            "Epoch 22/100\n",
            "60000/60000 [==============================] - 6s 96us/sample - loss: 0.1666 - accuracy: 0.9370\n",
            "Epoch 23/100\n",
            "60000/60000 [==============================] - 6s 94us/sample - loss: 0.1641 - accuracy: 0.9381\n",
            "Epoch 24/100\n",
            "60000/60000 [==============================] - 6s 94us/sample - loss: 0.1615 - accuracy: 0.9400\n",
            "Epoch 25/100\n",
            "60000/60000 [==============================] - 6s 94us/sample - loss: 0.1557 - accuracy: 0.9417\n",
            "Epoch 26/100\n",
            "60000/60000 [==============================] - 6s 96us/sample - loss: 0.1550 - accuracy: 0.9415\n",
            "Epoch 27/100\n",
            "60000/60000 [==============================] - 6s 94us/sample - loss: 0.1499 - accuracy: 0.9441\n",
            "Epoch 28/100\n",
            "60000/60000 [==============================] - 6s 96us/sample - loss: 0.1457 - accuracy: 0.9449\n",
            "Epoch 29/100\n",
            "60000/60000 [==============================] - 6s 95us/sample - loss: 0.1434 - accuracy: 0.9470\n",
            "Epoch 30/100\n",
            "60000/60000 [==============================] - 6s 94us/sample - loss: 0.1401 - accuracy: 0.9465\n",
            "Epoch 31/100\n",
            "60000/60000 [==============================] - 6s 100us/sample - loss: 0.1383 - accuracy: 0.9484\n",
            "Epoch 32/100\n",
            "60000/60000 [==============================] - 6s 95us/sample - loss: 0.1349 - accuracy: 0.9492\n",
            "Epoch 33/100\n",
            "60000/60000 [==============================] - 6s 92us/sample - loss: 0.1326 - accuracy: 0.9498\n",
            "Epoch 34/100\n",
            "60000/60000 [==============================] - 6s 96us/sample - loss: 0.1314 - accuracy: 0.9510\n",
            "Epoch 35/100\n",
            "60000/60000 [==============================] - 6s 96us/sample - loss: 0.1266 - accuracy: 0.9528\n",
            "Epoch 36/100\n",
            "60000/60000 [==============================] - 6s 94us/sample - loss: 0.1255 - accuracy: 0.9522\n",
            "Epoch 37/100\n",
            "60000/60000 [==============================] - 6s 94us/sample - loss: 0.1224 - accuracy: 0.9539\n",
            "Epoch 38/100\n",
            "60000/60000 [==============================] - 6s 98us/sample - loss: 0.1203 - accuracy: 0.9542\n",
            "Epoch 39/100\n",
            "60000/60000 [==============================] - 6s 102us/sample - loss: 0.1183 - accuracy: 0.9556\n",
            "Epoch 40/100\n",
            "60000/60000 [==============================] - 6s 94us/sample - loss: 0.1165 - accuracy: 0.9569\n",
            "Epoch 41/100\n",
            "60000/60000 [==============================] - 6s 94us/sample - loss: 0.1134 - accuracy: 0.9582\n",
            "Epoch 42/100\n",
            "60000/60000 [==============================] - 6s 95us/sample - loss: 0.1110 - accuracy: 0.9585\n",
            "Epoch 43/100\n",
            "60000/60000 [==============================] - 6s 94us/sample - loss: 0.1108 - accuracy: 0.9578\n",
            "Epoch 44/100\n",
            "60000/60000 [==============================] - 6s 96us/sample - loss: 0.1099 - accuracy: 0.9584\n",
            "Epoch 45/100\n",
            "60000/60000 [==============================] - 6s 96us/sample - loss: 0.1064 - accuracy: 0.9594\n",
            "Epoch 46/100\n",
            "60000/60000 [==============================] - 6s 92us/sample - loss: 0.1062 - accuracy: 0.9599\n",
            "Epoch 47/100\n",
            "60000/60000 [==============================] - 6s 95us/sample - loss: 0.1020 - accuracy: 0.9620\n",
            "Epoch 48/100\n",
            "60000/60000 [==============================] - 6s 96us/sample - loss: 0.1007 - accuracy: 0.9620\n",
            "Epoch 49/100\n",
            "60000/60000 [==============================] - 6s 95us/sample - loss: 0.0977 - accuracy: 0.9638\n",
            "Epoch 50/100\n",
            "60000/60000 [==============================] - 6s 95us/sample - loss: 0.1004 - accuracy: 0.9617\n",
            "Epoch 51/100\n",
            "60000/60000 [==============================] - 6s 94us/sample - loss: 0.0957 - accuracy: 0.9643\n",
            "Epoch 52/100\n",
            "60000/60000 [==============================] - 6s 97us/sample - loss: 0.0938 - accuracy: 0.9646\n",
            "Epoch 53/100\n",
            "60000/60000 [==============================] - 6s 93us/sample - loss: 0.0925 - accuracy: 0.9649\n",
            "Epoch 54/100\n",
            "60000/60000 [==============================] - 6s 92us/sample - loss: 0.0928 - accuracy: 0.9653\n",
            "Epoch 55/100\n",
            "60000/60000 [==============================] - 6s 96us/sample - loss: 0.0899 - accuracy: 0.9661\n",
            "Epoch 56/100\n",
            "60000/60000 [==============================] - 6s 92us/sample - loss: 0.0902 - accuracy: 0.9666\n",
            "Epoch 57/100\n",
            "60000/60000 [==============================] - 6s 95us/sample - loss: 0.0886 - accuracy: 0.9663\n",
            "Epoch 58/100\n",
            "60000/60000 [==============================] - 6s 96us/sample - loss: 0.0864 - accuracy: 0.9672\n",
            "Epoch 59/100\n",
            "60000/60000 [==============================] - 6s 95us/sample - loss: 0.0857 - accuracy: 0.9674\n",
            "Epoch 60/100\n",
            "60000/60000 [==============================] - 6s 93us/sample - loss: 0.0860 - accuracy: 0.9678\n",
            "Epoch 61/100\n",
            "60000/60000 [==============================] - 6s 97us/sample - loss: 0.0835 - accuracy: 0.9686\n",
            "Epoch 62/100\n",
            "60000/60000 [==============================] - 6s 94us/sample - loss: 0.0817 - accuracy: 0.9697\n",
            "Epoch 63/100\n",
            "60000/60000 [==============================] - 6s 94us/sample - loss: 0.0790 - accuracy: 0.9709\n",
            "Epoch 64/100\n",
            "60000/60000 [==============================] - 6s 93us/sample - loss: 0.0808 - accuracy: 0.9695\n",
            "Epoch 65/100\n",
            "60000/60000 [==============================] - 6s 94us/sample - loss: 0.0778 - accuracy: 0.9704\n",
            "Epoch 66/100\n",
            "60000/60000 [==============================] - 5s 92us/sample - loss: 0.0780 - accuracy: 0.9708\n",
            "Epoch 67/100\n",
            "60000/60000 [==============================] - 5s 90us/sample - loss: 0.0770 - accuracy: 0.9714\n",
            "Epoch 68/100\n",
            "60000/60000 [==============================] - 6s 94us/sample - loss: 0.0766 - accuracy: 0.9709\n",
            "Epoch 69/100\n",
            "60000/60000 [==============================] - 6s 95us/sample - loss: 0.0733 - accuracy: 0.9730\n",
            "Epoch 70/100\n",
            "60000/60000 [==============================] - 6s 97us/sample - loss: 0.0745 - accuracy: 0.9720\n",
            "Epoch 71/100\n",
            "60000/60000 [==============================] - 6s 96us/sample - loss: 0.0733 - accuracy: 0.9730\n",
            "Epoch 72/100\n",
            "60000/60000 [==============================] - 6s 95us/sample - loss: 0.0727 - accuracy: 0.9729\n",
            "Epoch 73/100\n",
            "60000/60000 [==============================] - 5s 91us/sample - loss: 0.0707 - accuracy: 0.9733\n",
            "Epoch 74/100\n",
            "60000/60000 [==============================] - 6s 93us/sample - loss: 0.0732 - accuracy: 0.9722\n",
            "Epoch 75/100\n",
            "60000/60000 [==============================] - 6s 95us/sample - loss: 0.0694 - accuracy: 0.9741\n",
            "Epoch 76/100\n",
            "60000/60000 [==============================] - 6s 93us/sample - loss: 0.0674 - accuracy: 0.9749\n",
            "Epoch 77/100\n",
            "60000/60000 [==============================] - 5s 89us/sample - loss: 0.0677 - accuracy: 0.9749\n",
            "Epoch 78/100\n",
            "60000/60000 [==============================] - 6s 94us/sample - loss: 0.0697 - accuracy: 0.9739\n",
            "Epoch 79/100\n",
            "60000/60000 [==============================] - 6s 95us/sample - loss: 0.0664 - accuracy: 0.9757\n",
            "Epoch 80/100\n",
            "60000/60000 [==============================] - 5s 90us/sample - loss: 0.0641 - accuracy: 0.9760\n",
            "Epoch 81/100\n",
            "60000/60000 [==============================] - 6s 93us/sample - loss: 0.0652 - accuracy: 0.9759\n",
            "Epoch 82/100\n",
            "60000/60000 [==============================] - 6s 93us/sample - loss: 0.0630 - accuracy: 0.9769\n",
            "Epoch 83/100\n",
            "60000/60000 [==============================] - 6s 93us/sample - loss: 0.0639 - accuracy: 0.9757\n",
            "Epoch 84/100\n",
            "60000/60000 [==============================] - 6s 94us/sample - loss: 0.0619 - accuracy: 0.9770\n",
            "Epoch 85/100\n",
            "60000/60000 [==============================] - 6s 101us/sample - loss: 0.0606 - accuracy: 0.9770\n",
            "Epoch 86/100\n",
            "60000/60000 [==============================] - 6s 93us/sample - loss: 0.0602 - accuracy: 0.9770\n",
            "Epoch 87/100\n",
            "60000/60000 [==============================] - 6s 92us/sample - loss: 0.0610 - accuracy: 0.9775\n",
            "Epoch 88/100\n",
            "60000/60000 [==============================] - 6s 93us/sample - loss: 0.0588 - accuracy: 0.9780\n",
            "Epoch 89/100\n",
            "60000/60000 [==============================] - 5s 91us/sample - loss: 0.0619 - accuracy: 0.9766\n",
            "Epoch 90/100\n",
            "60000/60000 [==============================] - 6s 94us/sample - loss: 0.0573 - accuracy: 0.9788\n",
            "Epoch 91/100\n",
            "60000/60000 [==============================] - 6s 93us/sample - loss: 0.0583 - accuracy: 0.9780\n",
            "Epoch 92/100\n",
            "60000/60000 [==============================] - 6s 95us/sample - loss: 0.0563 - accuracy: 0.9797\n",
            "Epoch 93/100\n",
            "60000/60000 [==============================] - 6s 93us/sample - loss: 0.0574 - accuracy: 0.9783\n",
            "Epoch 94/100\n",
            "60000/60000 [==============================] - 6s 99us/sample - loss: 0.0584 - accuracy: 0.9779\n",
            "Epoch 95/100\n",
            "60000/60000 [==============================] - 6s 97us/sample - loss: 0.0576 - accuracy: 0.9789\n",
            "Epoch 96/100\n",
            "60000/60000 [==============================] - 5s 91us/sample - loss: 0.0528 - accuracy: 0.9804\n",
            "Epoch 97/100\n",
            "60000/60000 [==============================] - 5s 89us/sample - loss: 0.0544 - accuracy: 0.9793\n",
            "Epoch 98/100\n",
            "60000/60000 [==============================] - 6s 93us/sample - loss: 0.0555 - accuracy: 0.9797\n",
            "Epoch 99/100\n",
            "60000/60000 [==============================] - 6s 95us/sample - loss: 0.0544 - accuracy: 0.9794\n",
            "Epoch 100/100\n",
            "60000/60000 [==============================] - 6s 94us/sample - loss: 0.0499 - accuracy: 0.9820\n"
          ],
          "name": "stdout"
        }
      ]
    },
    {
      "cell_type": "markdown",
      "metadata": {
        "id": "R2TLdEfR9tus",
        "colab_type": "text"
      },
      "source": [
        "Plot the training to makes sure it is converging."
      ]
    },
    {
      "cell_type": "code",
      "metadata": {
        "id": "5hCztJ2o90DS",
        "colab_type": "code",
        "colab": {}
      },
      "source": [
        "def plot_acc(hist):\n",
        "  # plot the accuracy\n",
        "  plt.title('Accuracy History')\n",
        "  plt.plot(hist.history['accuracy'])\n",
        "  plt.ylabel('Accuracy')\n",
        "  plt.xlabel('epoch')\n",
        "  plt.show()\n",
        "  \n",
        "def plot_loss(hist):\n",
        "  # plot the loss\n",
        "  plt.title('Loss History')\n",
        "  plt.plot(hist.history['loss'])\n",
        "  plt.ylabel('loss')\n",
        "  plt.xlabel('epoch')\n",
        "  plt.show()\n",
        "\n"
      ],
      "execution_count": 0,
      "outputs": []
    },
    {
      "cell_type": "code",
      "metadata": {
        "id": "Zljp5aHqv514",
        "colab_type": "code",
        "outputId": "e63024be-fdcd-4045-a4c5-c7c91f6bfe33",
        "colab": {
          "base_uri": "https://localhost:8080/",
          "height": 573
        }
      },
      "source": [
        "plot_loss(train_hist)\n",
        "plot_acc(train_hist)"
      ],
      "execution_count": 0,
      "outputs": [
        {
          "output_type": "display_data",
          "data": {
            "image/png": "[encoded data removed]",
            "text/plain": [
              "<Figure size 432x288 with 1 Axes>"
            ]
          },
          "metadata": {
            "tags": []
          }
        },
        {
          "output_type": "display_data",
          "data": {
            "image/png": "[encoded data removed]",
            "text/plain": [
              "<Figure size 432x288 with 1 Axes>"
            ]
          },
          "metadata": {
            "tags": []
          }
        }
      ]
    },
    {
      "cell_type": "markdown",
      "metadata": {
        "id": "0WOXQpc99Ttj",
        "colab_type": "text"
      },
      "source": [
        "## Evaluate the Trained model on the test data\n",
        "\n",
        "Once we have the model trained, we need to see how it will perform on data that it was not trained on, that is, test data. \n",
        "\n",
        "We do this with keras' evaluation function and the test dataset we retrieved earlier.\n"
      ]
    },
    {
      "cell_type": "code",
      "metadata": {
        "id": "9yEEjOV69uay",
        "colab_type": "code",
        "colab": {}
      },
      "source": [
        "test_loss, test_acc = model.evaluate(test_images, test_labels, verbose=0)"
      ],
      "execution_count": 0,
      "outputs": []
    },
    {
      "cell_type": "markdown",
      "metadata": {
        "id": "rFRxp6zA98ww",
        "colab_type": "text"
      },
      "source": [
        ""
      ]
    },
    {
      "cell_type": "code",
      "metadata": {
        "id": "xXWvu1-M92vh",
        "colab_type": "code",
        "outputId": "a1292d79-183b-4fdb-93e6-42dd27f02454",
        "colab": {
          "base_uri": "https://localhost:8080/",
          "height": 34
        }
      },
      "source": [
        "print(\"max training accuracy:\", max(train_hist.history['accuracy']), \"  test accuracy:\", test_acc)"
      ],
      "execution_count": 0,
      "outputs": [
        {
          "output_type": "stream",
          "text": [
            "max training accuracy: 0.9819667   test accuracy: 0.8852\n"
          ],
          "name": "stdout"
        }
      ]
    },
    {
      "cell_type": "markdown",
      "metadata": {
        "id": "nAB01AmFAYw6",
        "colab_type": "text"
      },
      "source": [
        "## Training Results\n",
        "\n",
        "The model has **over 98% accuracy** on the training data.  And **only 88% accuracy** on a test images on which it was not trained. This is a classic sign that the model overfits the training data.  \n",
        "\n",
        "We need to determine how we can reduce this overfitting and get **good accuracy on both training and test data!**\n",
        "\n",
        "\n"
      ]
    },
    {
      "cell_type": "markdown",
      "metadata": {
        "id": "6olDUcpiVkxe",
        "colab_type": "text"
      },
      "source": [
        "# Updates to improve performance of trained model\n",
        "\n",
        "In this section, we want to make changes to improve the performance of trained model.  By improved performance we mean having the model not overfit the training data and perform poorly on the testing data.\n",
        "\n",
        "There are serveral common techniques to fix the this problem.  These include:\n",
        "\n",
        "1.   Early Stopping - Terminating training as early as possible.\n",
        "2.   Dropout - Randomly removing the contributions from some neurons\n",
        "2.   Regularization - hyperparameter tuning\n",
        "\n",
        "Of these Early Stop and Dropout are easily performed and are the two we will try.\n",
        "\n"
      ]
    },
    {
      "cell_type": "markdown",
      "metadata": {
        "id": "gxM0Nan9ZjmK",
        "colab_type": "text"
      },
      "source": [
        "## The need for better performance tracking \n",
        "\n",
        "We want to ensure we are getting good data to evaluate the performance of our changes.  Fortunately the TensorFlow family include the TensorBoard tool.  \n",
        "\n",
        "TensorBoard provides us various ways to monitor the performance of our models.  This includes:\n",
        "\n",
        "*    Tracking and visualizing metrics such as loss and accuracy\n",
        "*    Visualizing the model graph (ops and layers)\n",
        "*    Viewing histograms of weights, biases, or other tensors as they change over time\n",
        "*    much more"
      ]
    },
    {
      "cell_type": "code",
      "metadata": {
        "id": "m6dqMFnCbkC_",
        "colab_type": "code",
        "colab": {}
      },
      "source": [
        ""
      ],
      "execution_count": 0,
      "outputs": []
    },
    {
      "cell_type": "markdown",
      "metadata": {
        "id": "3wrym729ZWre",
        "colab_type": "text"
      },
      "source": [
        "## Early Stopping\n",
        "\n",
        "Early stopping involves having the training stop when the "
      ]
    }
  ]
}
