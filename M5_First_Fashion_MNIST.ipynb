{
  "nbformat": 4,
  "nbformat_minor": 0,
  "metadata": {
    "colab": {
      "name": "TF-Getting-Started-M5-Simple-Fashion-MNIST.ipynb",
      "provenance": [],
      "collapsed_sections": [],
      "include_colab_link": true
    },
    "kernelspec": {
      "name": "python3",
      "display_name": "Python 3"
    },
    "accelerator": "GPU"
  },
  "cells": [
    {
      "cell_type": "markdown",
      "metadata": {
        "id": "view-in-github",
        "colab_type": "text"
      },
      "source": [
        "<a href=\"https://colab.research.google.com/github/JerryKurata/First-NN-Tensorflow/blob/master/M5_First_Fashion_MNIST.ipynb\" target=\"_parent\"><img src=\"https://colab.research.google.com/assets/colab-badge.svg\" alt=\"Open In Colab\"/></a>"
      ]
    },
    {
      "cell_type": "markdown",
      "metadata": {
        "id": "bC7-g3yGJCdW",
        "colab_type": "text"
      },
      "source": [
        "# Simple MNIST-Fashion Neural Network\n",
        "\n",
        "This notebook implements a simple NN consisting of two dense layers, and uses this network to classify MNIST-Fashion images.\n",
        "\n",
        "These MNIST-Fashion images consist of clothing items from these  ten classes. (*T-shirt/top, Trouser, Pullover, Dress, Coat, Sandal, Shirt, Sneaker, Bag, Ankle boot)*"
      ]
    },
    {
      "cell_type": "markdown",
      "metadata": {
        "id": "tL0ZtKVL6NN4",
        "colab_type": "text"
      },
      "source": [
        "Load correct version of TensorFlow\n",
        "\n",
        "Before we use TensorFlow we must load the correct version. We want version 2.x. To do this we execute the colab commands below. Note that these commands ONLY WORK IN COLAB."
      ]
    },
    {
      "cell_type": "code",
      "metadata": {
        "id": "leSo_zfF6QXV",
        "colab_type": "code",
        "outputId": "fd769f9b-e39e-4649-f131-413e1de1e096",
        "colab": {
          "base_uri": "https://localhost:8080/",
          "height": 34
        }
      },
      "source": [
        "# Install TensorFlow using Colab's tensorflow_version command\n",
        "try:\n",
        "  # %tensorflow_version only exists in Colab.\n",
        "  %tensorflow_version 2.x\n",
        "except Exception:\n",
        "  pass\n"
      ],
      "execution_count": 1,
      "outputs": [
        {
          "output_type": "stream",
          "text": [
            "TensorFlow 2.x selected.\n"
          ],
          "name": "stdout"
        }
      ]
    },
    {
      "cell_type": "markdown",
      "metadata": {
        "id": "Sy_y_E9_NFc8",
        "colab_type": "text"
      },
      "source": [
        "## Import Libraries\n",
        "\n",
        "We import TensorFlow, Numpy, and matplotlib libraries.  \n",
        "\n",
        "Numpy is a powerful N-dimensional array library that\n",
        "allows us to easily create and manipulate arrays of data, and more!\n",
        "\n",
        "Numpy also allows us to convert TensorFlow's native data structures,\n",
        "to python native data types.\n",
        "\n",
        "matplotlib is a graphics plot library"
      ]
    },
    {
      "cell_type": "code",
      "metadata": {
        "id": "RgDK_bJeJpua",
        "colab_type": "code",
        "colab": {}
      },
      "source": [
        "# Import libraries\n",
        "import tensorflow as tf\n",
        "import numpy as np\n",
        "import matplotlib.pyplot as plt\n"
      ],
      "execution_count": 0,
      "outputs": []
    },
    {
      "cell_type": "markdown",
      "metadata": {
        "id": "EMWdw_E_QPhY",
        "colab_type": "text"
      },
      "source": [
        "## Problem Statement\n",
        "\n",
        "Using example data, train a model that will correctly predict the class of images of fashion items.\n",
        "\n"
      ]
    },
    {
      "cell_type": "markdown",
      "metadata": {
        "id": "N49Xfo21RTr9",
        "colab_type": "text"
      },
      "source": [
        "## Get Data\n",
        "\n",
        "In this example we will be using a truncated version of the Ames dataset that only contains information on homes sold in May 2010.\n",
        "\n",
        "### About the Fashion MNIST dataset\n",
        "\n",
        "The Fashion MNIST dataset is widely available data set.   It is documented at the https://github.com/zalandoresearch/fashion-mnist\n",
        "\n",
        "Each image in the dataset is 28 X 28 pixels.  The pixel values are a grayscale with values ranging from 0 to 255.\n",
        "\n",
        "Associated with each image is a number from 0 to 9 specifying the class of the fashion item in the image.  The values for the class are:\n",
        "\n",
        "| Label | Description |\n",
        "|-------|-------------|\n",
        "| 0     | T-shirt/top |\n",
        "|   1    | Trouser    | \n",
        "|  2     |  Pullover  |\n",
        "|   3    |    Dress    |\n",
        "|    4   |    Coat      |\n",
        "|   5    | Sandal     |\n",
        "|   6    | Shirt         |\n",
        "|    7   |  Sneaker  |\n",
        "|   8    |  Bag          |\n",
        "|  9     | Ankle Boot |\n",
        "\n",
        "There are 60,000 Training examples and 10,000 Testing examples. \n",
        "\n",
        "Fashion-MNIST is one of the dataset provided with Keras in Tensorflow.  Keras provides a load_data() method that will download the data sets of 60,000 Training images and their corresponding 60,000 labels, and 10,000 Test images and their corresponding 10,000 labels."
      ]
    },
    {
      "cell_type": "code",
      "metadata": {
        "id": "1MMs613GNLe4",
        "colab_type": "code",
        "outputId": "d2af8608-97e8-4572-bbb1-d64ccd640fd4",
        "colab": {
          "base_uri": "https://localhost:8080/",
          "height": 153
        }
      },
      "source": [
        "fashion_mnist = tf.keras.datasets.fashion_mnist\n",
        "(train_images, train_labels), (test_images, test_labels) = fashion_mnist.load_data()"
      ],
      "execution_count": 3,
      "outputs": [
        {
          "output_type": "stream",
          "text": [
            "Downloading data from https://storage.googleapis.com/tensorflow/tf-keras-datasets/train-labels-idx1-ubyte.gz\n",
            "32768/29515 [=================================] - 0s 0us/step\n",
            "Downloading data from https://storage.googleapis.com/tensorflow/tf-keras-datasets/train-images-idx3-ubyte.gz\n",
            "26427392/26421880 [==============================] - 1s 0us/step\n",
            "Downloading data from https://storage.googleapis.com/tensorflow/tf-keras-datasets/t10k-labels-idx1-ubyte.gz\n",
            "8192/5148 [===============================================] - 0s 0us/step\n",
            "Downloading data from https://storage.googleapis.com/tensorflow/tf-keras-datasets/t10k-images-idx3-ubyte.gz\n",
            "4423680/4422102 [==============================] - 0s 0us/step\n"
          ],
          "name": "stdout"
        }
      ]
    },
    {
      "cell_type": "markdown",
      "metadata": {
        "id": "oAcxPIjJkLKZ",
        "colab_type": "text"
      },
      "source": [
        "## Explore the data\n",
        "\n",
        "Let's look at our data."
      ]
    },
    {
      "cell_type": "code",
      "metadata": {
        "id": "Umx96CdYV-yz",
        "colab_type": "code",
        "outputId": "0142921d-9077-43c4-a6da-2722e243957e",
        "colab": {
          "base_uri": "https://localhost:8080/",
          "height": 34
        }
      },
      "source": [
        "# Print the shape of the data tensors we loaded.  Should be:\n",
        "#   60,000 training 28X28 images and their labels, and 10,000 testing images and their labels\n",
        "print (train_images.shape, train_labels.shape, test_images.shape, test_labels.shape)"
      ],
      "execution_count": 4,
      "outputs": [
        {
          "output_type": "stream",
          "text": [
            "(60000, 28, 28) (60000,) (10000, 28, 28) (10000,)\n"
          ],
          "name": "stdout"
        }
      ]
    },
    {
      "cell_type": "markdown",
      "metadata": {
        "id": "4Jq_XBs9Xa6C",
        "colab_type": "text"
      },
      "source": [
        "## Inspect data\n",
        "Each image should have be 28 X 28 image and have a gray scale value of 0-255. Let's display an arbitrary image.\n",
        "\n",
        "You should see:  \n",
        "* A title that specifies the class of image, whose description is shown on the table above.\n",
        "* The image \n",
        "* The 28 by 28 width and height pixel index \n",
        "* and on the right the gray associated with the specified pixel values."
      ]
    },
    {
      "cell_type": "code",
      "metadata": {
        "id": "ni0bRFhjWP1y",
        "colab_type": "code",
        "colab": {}
      },
      "source": [
        "def show_training_image(index):\n",
        "\n",
        "  plt.figure()\n",
        "  plt.title(\"Image Label = \" + str(train_labels[index]))\n",
        "  plt.imshow(train_images[index], cmap='gray')  # data is grayscale, but displays in color without cmap='gray'\n",
        "  plt.colorbar()\n",
        "  plt.show()\n"
      ],
      "execution_count": 0,
      "outputs": []
    },
    {
      "cell_type": "code",
      "metadata": {
        "id": "gJa1Wq_4acop",
        "colab_type": "code",
        "outputId": "c9097910-6251-43a6-b00a-a246c6bddf99",
        "colab": {
          "base_uri": "https://localhost:8080/",
          "height": 281
        }
      },
      "source": [
        "img_index = 100\n",
        "show_training_image(img_index)"
      ],
      "execution_count": 6,
      "outputs": [
        {
          "output_type": "display_data",
          "data": {
            "image/png": "[encoded data removed]",
            "text/plain": [
              "<Figure size 432x288 with 2 Axes>"
            ]
          },
          "metadata": {
            "tags": []
          }
        }
      ]
    },
    {
      "cell_type": "markdown",
      "metadata": {
        "id": "Db_TW6wccWHw",
        "colab_type": "text"
      },
      "source": [
        "## Pre-process the data\n",
        "\n",
        "As usually we need to do some pre-processing of the data.  Here we want to scale the pixels values from 0 to 255 to 0.0 to 1.0.  We need scale both the training and testing image values"
      ]
    },
    {
      "cell_type": "code",
      "metadata": {
        "id": "o0vDE9tBYUWx",
        "colab_type": "code",
        "outputId": "02b892b9-2353-43a4-a8e2-492defbe42c9",
        "colab": {
          "base_uri": "https://localhost:8080/",
          "height": 281
        }
      },
      "source": [
        "# scale training and testing image values\n",
        "train_images = train_images / 255.0\n",
        "test_images = test_images / 255.0\n",
        "# Print the image again and notice the values now range from 0 to 1.\n",
        "#   And the image looks the same, just on a different scale.\n",
        "show_training_image(img_index)"
      ],
      "execution_count": 7,
      "outputs": [
        {
          "output_type": "display_data",
          "data": {
            "image/png": "[encoded data removed]",
            "text/plain": [
              "<Figure size 432x288 with 2 Axes>"
            ]
          },
          "metadata": {
            "tags": []
          }
        }
      ]
    },
    {
      "cell_type": "markdown",
      "metadata": {
        "id": "ZAAj8oXkeBsY",
        "colab_type": "text"
      },
      "source": [
        "## Create the model\n",
        "\n",
        "We can now create the model we are going to train with the data.\n",
        "\n",
        "This will be a simple model that:\n",
        "* first flattens the 28 X 28 pixel values into a long stream of 28 by 28 = 784 pixel values - Note this is a Keras layer but is not a neural network layer.  \n",
        "* Then passes each pixel value as the input to each of the 128 Neurons in the first Hidden layer\n",
        "* and finally passes the last layer than contains 10 nuerons, one for each of the ten classes (t-shirt, pullover, etc).  Each of these nuerons uses the Softmax activation function to determine the probability that the image is each class.  The final output from the model is a vector of probabilites that the image of each class.  Such as :\n",
        "[0.1, 0.05, 0.04, 0.06, 0.50, 0.20, 0.05, 0.05, 0.03, 0.07].  This example vector adds up to 1.0 and shows the probability that the image is class 0 (T-shirt/top) is 0.1 (10%), class 1 (Trousers) is 0.05 (5%), class 2 (Pullover) is 0.04 (4%), ....\n"
      ]
    },
    {
      "cell_type": "code",
      "metadata": {
        "id": "0N2R893MdSZn",
        "colab_type": "code",
        "colab": {}
      },
      "source": [
        "\n",
        "model = tf.keras.models.Sequential()      # Create a new sequential model\n",
        "model.add(tf.keras.layers.Flatten(input_shape=(28,28)))    # keras processing layer - no neurons\n",
        "model.add(tf.keras.layers.Dense(128, activation='relu'))   # 128 nuerons connected to pixels\n",
        "model.add(tf.keras.layers.Dense(10, activation='softmax')) # determine probability of each of the 10 classes\n"
      ],
      "execution_count": 0,
      "outputs": []
    },
    {
      "cell_type": "markdown",
      "metadata": {
        "id": "6nu2185LTBq8",
        "colab_type": "text"
      },
      "source": [
        "## Structure of the model\n",
        "\n",
        "To make it easy for use to visualize the model, Keras models have a summary.  When we call it we see our model structure,  \n",
        "\n"
      ]
    },
    {
      "cell_type": "code",
      "metadata": {
        "id": "0gXXuAqQURdH",
        "colab_type": "code",
        "outputId": "3c2a0f6f-82df-4920-af6b-2bf927970830",
        "colab": {
          "base_uri": "https://localhost:8080/",
          "height": 272
        }
      },
      "source": [
        "print(model.summary())"
      ],
      "execution_count": 9,
      "outputs": [
        {
          "output_type": "stream",
          "text": [
            "Model: \"sequential\"\n",
            "_________________________________________________________________\n",
            "Layer (type)                 Output Shape              Param #   \n",
            "=================================================================\n",
            "flatten (Flatten)            (None, 784)               0         \n",
            "_________________________________________________________________\n",
            "dense (Dense)                (None, 128)               100480    \n",
            "_________________________________________________________________\n",
            "dense_1 (Dense)              (None, 10)                1290      \n",
            "=================================================================\n",
            "Total params: 101,770\n",
            "Trainable params: 101,770\n",
            "Non-trainable params: 0\n",
            "_________________________________________________________________\n",
            "None\n"
          ],
          "name": "stdout"
        }
      ]
    },
    {
      "cell_type": "markdown",
      "metadata": {
        "id": "BJTmzxCJ3Bpi",
        "colab_type": "text"
      },
      "source": [
        "## Compile the model\n",
        "\n",
        "Before we can train the model we need to  specify how the model will learn from the training data.  To do this we specify:\n",
        "*  loss - how we measure loss (error).  We will use sparse_categorical_crossentropy, which measure how incorrectly the model predicted the class.  We want this low.\n",
        "*     optimizer - how the model will update the models' weights to reduce the loss\n",
        "* metrics  - the metrics used for evaluation of training and test.  In this case, how of often the images we correctly classified. \n"
      ]
    },
    {
      "cell_type": "code",
      "metadata": {
        "id": "TW9pZ8kw2Nid",
        "colab_type": "code",
        "colab": {}
      },
      "source": [
        "model.compile(optimizer='adam',\n",
        "              loss='sparse_categorical_crossentropy',\n",
        "              metrics=['accuracy'])\n"
      ],
      "execution_count": 0,
      "outputs": []
    },
    {
      "cell_type": "markdown",
      "metadata": {
        "id": "T7wyz8jh6ZA6",
        "colab_type": "text"
      },
      "source": [
        "## Train the Model\n",
        "Now that we have our data and model, and have specified how the model will learn from the data we can train it."
      ]
    },
    {
      "cell_type": "code",
      "metadata": {
        "id": "osxdZq5y6qF1",
        "colab_type": "code",
        "outputId": "eb763019-4ec5-4af5-f5df-bb22da38821c",
        "colab": {
          "base_uri": "https://localhost:8080/",
          "height": 1000
        }
      },
      "source": [
        "train_hist = model.fit(train_images, train_labels, epochs=100)"
      ],
      "execution_count": 11,
      "outputs": [
        {
          "output_type": "stream",
          "text": [
            "Train on 60000 samples\n",
            "Epoch 1/100\n",
            "60000/60000 [==============================] - 6s 99us/sample - loss: 0.5049 - accuracy: 0.8234\n",
            "Epoch 2/100\n",
            "60000/60000 [==============================] - 4s 72us/sample - loss: 0.3796 - accuracy: 0.8634\n",
            "Epoch 3/100\n",
            "60000/60000 [==============================] - 4s 71us/sample - loss: 0.3412 - accuracy: 0.8762\n",
            "Epoch 4/100\n",
            "60000/60000 [==============================] - 4s 71us/sample - loss: 0.3170 - accuracy: 0.8835\n",
            "Epoch 5/100\n",
            "60000/60000 [==============================] - 4s 72us/sample - loss: 0.2959 - accuracy: 0.8909\n",
            "Epoch 6/100\n",
            "60000/60000 [==============================] - 4s 71us/sample - loss: 0.2829 - accuracy: 0.8963\n",
            "Epoch 7/100\n",
            "60000/60000 [==============================] - 4s 71us/sample - loss: 0.2702 - accuracy: 0.9004\n",
            "Epoch 8/100\n",
            "60000/60000 [==============================] - 4s 72us/sample - loss: 0.2591 - accuracy: 0.9036\n",
            "Epoch 9/100\n",
            "60000/60000 [==============================] - 4s 73us/sample - loss: 0.2488 - accuracy: 0.9076\n",
            "Epoch 10/100\n",
            "60000/60000 [==============================] - 4s 72us/sample - loss: 0.2370 - accuracy: 0.9108\n",
            "Epoch 11/100\n",
            "60000/60000 [==============================] - 4s 72us/sample - loss: 0.2318 - accuracy: 0.9133\n",
            "Epoch 12/100\n",
            "60000/60000 [==============================] - 4s 72us/sample - loss: 0.2221 - accuracy: 0.9179\n",
            "Epoch 13/100\n",
            "60000/60000 [==============================] - 4s 71us/sample - loss: 0.2170 - accuracy: 0.9182\n",
            "Epoch 14/100\n",
            "60000/60000 [==============================] - 4s 72us/sample - loss: 0.2102 - accuracy: 0.9206\n",
            "Epoch 15/100\n",
            "60000/60000 [==============================] - 4s 74us/sample - loss: 0.2045 - accuracy: 0.9232\n",
            "Epoch 16/100\n",
            "60000/60000 [==============================] - 4s 74us/sample - loss: 0.1969 - accuracy: 0.9265\n",
            "Epoch 17/100\n",
            "60000/60000 [==============================] - 4s 75us/sample - loss: 0.1926 - accuracy: 0.9272\n",
            "Epoch 18/100\n",
            "60000/60000 [==============================] - 4s 72us/sample - loss: 0.1879 - accuracy: 0.9295\n",
            "Epoch 19/100\n",
            "60000/60000 [==============================] - 4s 75us/sample - loss: 0.1802 - accuracy: 0.9319\n",
            "Epoch 20/100\n",
            "60000/60000 [==============================] - 5s 76us/sample - loss: 0.1784 - accuracy: 0.9327\n",
            "Epoch 21/100\n",
            "60000/60000 [==============================] - 4s 74us/sample - loss: 0.1736 - accuracy: 0.9349\n",
            "Epoch 22/100\n",
            "60000/60000 [==============================] - 4s 71us/sample - loss: 0.1690 - accuracy: 0.9367\n",
            "Epoch 23/100\n",
            "60000/60000 [==============================] - 4s 71us/sample - loss: 0.1630 - accuracy: 0.9385\n",
            "Epoch 24/100\n",
            "60000/60000 [==============================] - 5s 75us/sample - loss: 0.1596 - accuracy: 0.9398\n",
            "Epoch 25/100\n",
            "60000/60000 [==============================] - 5s 76us/sample - loss: 0.1584 - accuracy: 0.9400\n",
            "Epoch 26/100\n",
            "60000/60000 [==============================] - 4s 72us/sample - loss: 0.1529 - accuracy: 0.9424\n",
            "Epoch 27/100\n",
            "60000/60000 [==============================] - 4s 72us/sample - loss: 0.1514 - accuracy: 0.9428\n",
            "Epoch 28/100\n",
            "60000/60000 [==============================] - 4s 71us/sample - loss: 0.1470 - accuracy: 0.9448\n",
            "Epoch 29/100\n",
            "60000/60000 [==============================] - 4s 70us/sample - loss: 0.1439 - accuracy: 0.9454\n",
            "Epoch 30/100\n",
            "60000/60000 [==============================] - 4s 70us/sample - loss: 0.1412 - accuracy: 0.9473\n",
            "Epoch 31/100\n",
            "60000/60000 [==============================] - 4s 70us/sample - loss: 0.1392 - accuracy: 0.9477\n",
            "Epoch 32/100\n",
            "60000/60000 [==============================] - 4s 70us/sample - loss: 0.1349 - accuracy: 0.9497\n",
            "Epoch 33/100\n",
            "60000/60000 [==============================] - 4s 71us/sample - loss: 0.1326 - accuracy: 0.9495\n",
            "Epoch 34/100\n",
            "60000/60000 [==============================] - 4s 70us/sample - loss: 0.1290 - accuracy: 0.9521\n",
            "Epoch 35/100\n",
            "60000/60000 [==============================] - 4s 70us/sample - loss: 0.1279 - accuracy: 0.9516\n",
            "Epoch 36/100\n",
            "60000/60000 [==============================] - 4s 71us/sample - loss: 0.1247 - accuracy: 0.9528\n",
            "Epoch 37/100\n",
            "60000/60000 [==============================] - 4s 72us/sample - loss: 0.1225 - accuracy: 0.9539\n",
            "Epoch 38/100\n",
            "60000/60000 [==============================] - 4s 71us/sample - loss: 0.1180 - accuracy: 0.9552\n",
            "Epoch 39/100\n",
            "60000/60000 [==============================] - 4s 70us/sample - loss: 0.1178 - accuracy: 0.9557\n",
            "Epoch 40/100\n",
            "60000/60000 [==============================] - 4s 71us/sample - loss: 0.1158 - accuracy: 0.9571\n",
            "Epoch 41/100\n",
            "60000/60000 [==============================] - 4s 70us/sample - loss: 0.1115 - accuracy: 0.9581\n",
            "Epoch 42/100\n",
            "60000/60000 [==============================] - 4s 72us/sample - loss: 0.1128 - accuracy: 0.9572\n",
            "Epoch 43/100\n",
            "60000/60000 [==============================] - 4s 70us/sample - loss: 0.1095 - accuracy: 0.9588\n",
            "Epoch 44/100\n",
            "60000/60000 [==============================] - 4s 70us/sample - loss: 0.1055 - accuracy: 0.9602\n",
            "Epoch 45/100\n",
            "60000/60000 [==============================] - 4s 70us/sample - loss: 0.1069 - accuracy: 0.9606\n",
            "Epoch 46/100\n",
            "60000/60000 [==============================] - 4s 70us/sample - loss: 0.1042 - accuracy: 0.9611\n",
            "Epoch 47/100\n",
            "60000/60000 [==============================] - 4s 70us/sample - loss: 0.1038 - accuracy: 0.9606\n",
            "Epoch 48/100\n",
            "60000/60000 [==============================] - 4s 70us/sample - loss: 0.1010 - accuracy: 0.9624\n",
            "Epoch 49/100\n",
            "60000/60000 [==============================] - 4s 70us/sample - loss: 0.0987 - accuracy: 0.9629\n",
            "Epoch 50/100\n",
            "60000/60000 [==============================] - 4s 70us/sample - loss: 0.0998 - accuracy: 0.9627\n",
            "Epoch 51/100\n",
            "60000/60000 [==============================] - 4s 70us/sample - loss: 0.0990 - accuracy: 0.9629\n",
            "Epoch 52/100\n",
            "60000/60000 [==============================] - 4s 70us/sample - loss: 0.0941 - accuracy: 0.9645\n",
            "Epoch 53/100\n",
            "60000/60000 [==============================] - 4s 69us/sample - loss: 0.0944 - accuracy: 0.9650\n",
            "Epoch 54/100\n",
            "60000/60000 [==============================] - 4s 71us/sample - loss: 0.0906 - accuracy: 0.9655\n",
            "Epoch 55/100\n",
            "60000/60000 [==============================] - 4s 70us/sample - loss: 0.0911 - accuracy: 0.9664\n",
            "Epoch 56/100\n",
            "60000/60000 [==============================] - 4s 72us/sample - loss: 0.0883 - accuracy: 0.9671\n",
            "Epoch 57/100\n",
            "60000/60000 [==============================] - 4s 72us/sample - loss: 0.0895 - accuracy: 0.9666\n",
            "Epoch 58/100\n",
            "60000/60000 [==============================] - 4s 71us/sample - loss: 0.0857 - accuracy: 0.9686\n",
            "Epoch 59/100\n",
            "60000/60000 [==============================] - 4s 72us/sample - loss: 0.0849 - accuracy: 0.9681\n",
            "Epoch 60/100\n",
            "60000/60000 [==============================] - 4s 71us/sample - loss: 0.0843 - accuracy: 0.9692\n",
            "Epoch 61/100\n",
            "60000/60000 [==============================] - 4s 70us/sample - loss: 0.0818 - accuracy: 0.9704\n",
            "Epoch 62/100\n",
            "60000/60000 [==============================] - 4s 70us/sample - loss: 0.0823 - accuracy: 0.9682\n",
            "Epoch 63/100\n",
            "60000/60000 [==============================] - 4s 70us/sample - loss: 0.0829 - accuracy: 0.9695\n",
            "Epoch 64/100\n",
            "60000/60000 [==============================] - 4s 69us/sample - loss: 0.0803 - accuracy: 0.9699\n",
            "Epoch 65/100\n",
            "60000/60000 [==============================] - 4s 70us/sample - loss: 0.0787 - accuracy: 0.9704\n",
            "Epoch 66/100\n",
            "60000/60000 [==============================] - 4s 70us/sample - loss: 0.0766 - accuracy: 0.9714\n",
            "Epoch 67/100\n",
            "60000/60000 [==============================] - 4s 71us/sample - loss: 0.0767 - accuracy: 0.9709\n",
            "Epoch 68/100\n",
            "60000/60000 [==============================] - 4s 70us/sample - loss: 0.0755 - accuracy: 0.9718\n",
            "Epoch 69/100\n",
            "60000/60000 [==============================] - 4s 70us/sample - loss: 0.0743 - accuracy: 0.9725\n",
            "Epoch 70/100\n",
            "60000/60000 [==============================] - 4s 70us/sample - loss: 0.0738 - accuracy: 0.9730\n",
            "Epoch 71/100\n",
            "60000/60000 [==============================] - 4s 71us/sample - loss: 0.0718 - accuracy: 0.9730\n",
            "Epoch 72/100\n",
            "60000/60000 [==============================] - 4s 71us/sample - loss: 0.0698 - accuracy: 0.9749\n",
            "Epoch 73/100\n",
            "60000/60000 [==============================] - 4s 70us/sample - loss: 0.0693 - accuracy: 0.9748\n",
            "Epoch 74/100\n",
            "60000/60000 [==============================] - 4s 72us/sample - loss: 0.0686 - accuracy: 0.9746\n",
            "Epoch 75/100\n",
            "60000/60000 [==============================] - 4s 71us/sample - loss: 0.0697 - accuracy: 0.9740\n",
            "Epoch 76/100\n",
            "60000/60000 [==============================] - 4s 71us/sample - loss: 0.0665 - accuracy: 0.9754\n",
            "Epoch 77/100\n",
            "60000/60000 [==============================] - 4s 70us/sample - loss: 0.0682 - accuracy: 0.9741\n",
            "Epoch 78/100\n",
            "60000/60000 [==============================] - 4s 69us/sample - loss: 0.0677 - accuracy: 0.9748\n",
            "Epoch 79/100\n",
            "60000/60000 [==============================] - 4s 69us/sample - loss: 0.0647 - accuracy: 0.9751\n",
            "Epoch 80/100\n",
            "60000/60000 [==============================] - 4s 69us/sample - loss: 0.0630 - accuracy: 0.9760\n",
            "Epoch 81/100\n",
            "60000/60000 [==============================] - 4s 69us/sample - loss: 0.0657 - accuracy: 0.9756\n",
            "Epoch 82/100\n",
            "60000/60000 [==============================] - 4s 70us/sample - loss: 0.0625 - accuracy: 0.9764\n",
            "Epoch 83/100\n",
            "60000/60000 [==============================] - 4s 71us/sample - loss: 0.0653 - accuracy: 0.9750\n",
            "Epoch 84/100\n",
            "60000/60000 [==============================] - 4s 69us/sample - loss: 0.0606 - accuracy: 0.9771\n",
            "Epoch 85/100\n",
            "60000/60000 [==============================] - 4s 70us/sample - loss: 0.0611 - accuracy: 0.9774\n",
            "Epoch 86/100\n",
            "60000/60000 [==============================] - 4s 69us/sample - loss: 0.0609 - accuracy: 0.9772\n",
            "Epoch 87/100\n",
            "60000/60000 [==============================] - 4s 69us/sample - loss: 0.0604 - accuracy: 0.9776\n",
            "Epoch 88/100\n",
            "60000/60000 [==============================] - 4s 69us/sample - loss: 0.0608 - accuracy: 0.9774\n",
            "Epoch 89/100\n",
            "60000/60000 [==============================] - 4s 68us/sample - loss: 0.0593 - accuracy: 0.9778\n",
            "Epoch 90/100\n",
            "60000/60000 [==============================] - 4s 70us/sample - loss: 0.0572 - accuracy: 0.9789\n",
            "Epoch 91/100\n",
            "60000/60000 [==============================] - 4s 70us/sample - loss: 0.0576 - accuracy: 0.9787\n",
            "Epoch 92/100\n",
            "60000/60000 [==============================] - 4s 70us/sample - loss: 0.0580 - accuracy: 0.9781\n",
            "Epoch 93/100\n",
            "60000/60000 [==============================] - 4s 71us/sample - loss: 0.0560 - accuracy: 0.9797\n",
            "Epoch 94/100\n",
            "60000/60000 [==============================] - 4s 72us/sample - loss: 0.0567 - accuracy: 0.9788\n",
            "Epoch 95/100\n",
            "60000/60000 [==============================] - 4s 70us/sample - loss: 0.0571 - accuracy: 0.9794\n",
            "Epoch 96/100\n",
            "60000/60000 [==============================] - 4s 70us/sample - loss: 0.0539 - accuracy: 0.9797\n",
            "Epoch 97/100\n",
            "60000/60000 [==============================] - 4s 73us/sample - loss: 0.0517 - accuracy: 0.9806\n",
            "Epoch 98/100\n",
            "60000/60000 [==============================] - 4s 74us/sample - loss: 0.0562 - accuracy: 0.9793\n",
            "Epoch 99/100\n",
            "60000/60000 [==============================] - 4s 74us/sample - loss: 0.0530 - accuracy: 0.9804\n",
            "Epoch 100/100\n",
            "60000/60000 [==============================] - 4s 70us/sample - loss: 0.0525 - accuracy: 0.9804\n"
          ],
          "name": "stdout"
        }
      ]
    },
    {
      "cell_type": "markdown",
      "metadata": {
        "id": "R2TLdEfR9tus",
        "colab_type": "text"
      },
      "source": [
        "Plot the training to makes sure it is converging."
      ]
    },
    {
      "cell_type": "code",
      "metadata": {
        "id": "5hCztJ2o90DS",
        "colab_type": "code",
        "colab": {}
      },
      "source": [
        "def plot_acc(hist):\n",
        "  # plot the accuracy\n",
        "  plt.title('Accuracy History')\n",
        "  plt.plot(hist.history['accuracy'])\n",
        "  plt.ylabel('Accuracy')\n",
        "  plt.xlabel('epoch')\n",
        "  plt.show()\n",
        "  \n",
        "def plot_loss(hist):\n",
        "  # plot the loss\n",
        "  plt.title('Loss History')\n",
        "  plt.plot(hist.history['loss'])\n",
        "  plt.ylabel('loss')\n",
        "  plt.xlabel('epoch')\n",
        "  plt.show()\n",
        "\n"
      ],
      "execution_count": 0,
      "outputs": []
    },
    {
      "cell_type": "code",
      "metadata": {
        "id": "Zljp5aHqv514",
        "colab_type": "code",
        "outputId": "b8317fcf-c4dc-42aa-9047-db85a4ee30b4",
        "colab": {
          "base_uri": "https://localhost:8080/",
          "height": 573
        }
      },
      "source": [
        "plot_loss(train_hist)\n",
        "plot_acc(train_hist)"
      ],
      "execution_count": 13,
      "outputs": [
        {
          "output_type": "display_data",
          "data": {
            "image/png": "[encoded data removed]",
            "text/plain": [
              "<Figure size 432x288 with 1 Axes>"
            ]
          },
          "metadata": {
            "tags": []
          }
        },
        {
          "output_type": "display_data",
          "data": {
            "image/png": "[encoded data removed]",
            "text/plain": [
              "<Figure size 432x288 with 1 Axes>"
            ]
          },
          "metadata": {
            "tags": []
          }
        }
      ]
    },
    {
      "cell_type": "markdown",
      "metadata": {
        "id": "0WOXQpc99Ttj",
        "colab_type": "text"
      },
      "source": [
        "## Evaluate the Trained model on the test data\n",
        "\n",
        "Once we have the model trained, we need to see how it will perform on data that it was not trained on, that is, test data. \n",
        "\n",
        "We do this with keras' evaluation function and the test dataset we retrieved earlier.\n"
      ]
    },
    {
      "cell_type": "code",
      "metadata": {
        "id": "9yEEjOV69uay",
        "colab_type": "code",
        "colab": {}
      },
      "source": [
        "test_loss, test_acc = model.evaluate(test_images, test_labels, verbose=0)"
      ],
      "execution_count": 0,
      "outputs": []
    },
    {
      "cell_type": "markdown",
      "metadata": {
        "id": "rFRxp6zA98ww",
        "colab_type": "text"
      },
      "source": [
        ""
      ]
    },
    {
      "cell_type": "code",
      "metadata": {
        "id": "xXWvu1-M92vh",
        "colab_type": "code",
        "outputId": "3b391878-5a48-416d-a36d-72058be203d3",
        "colab": {
          "base_uri": "https://localhost:8080/",
          "height": 34
        }
      },
      "source": [
        "print(\"max training accuracy:\", max(train_hist.history['accuracy']), \"  test accuracy:\", test_acc)"
      ],
      "execution_count": 15,
      "outputs": [
        {
          "output_type": "stream",
          "text": [
            "max training accuracy: 0.9806167   test accuracy: 0.8814\n"
          ],
          "name": "stdout"
        }
      ]
    },
    {
      "cell_type": "markdown",
      "metadata": {
        "id": "nAB01AmFAYw6",
        "colab_type": "text"
      },
      "source": [
        "## Training Results\n",
        "\n",
        "The model has over 98% accuracy on the training data.  And **only 88% accuracy** on a test images on which it was not trained. This is a classic sign that the model overfits the training data.  \n",
        "\n",
        "We need to determine how we can reduce this overfitting and get **good accuracy on both training and test data!**\n",
        "\n",
        "\n"
      ]
    }
  ]
}