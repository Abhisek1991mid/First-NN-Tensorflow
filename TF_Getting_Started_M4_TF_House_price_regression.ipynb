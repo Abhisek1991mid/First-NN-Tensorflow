{
  "nbformat": 4,
  "nbformat_minor": 0,
  "metadata": {
    "colab": {
      "name": "TF-Getting-Started -M4-TF-House-price-regression.ipynb",
      "provenance": [],
      "collapsed_sections": [],
      "toc_visible": true,
      "include_colab_link": true
    },
    "kernelspec": {
      "name": "python3",
      "display_name": "Python 3"
    },
    "accelerator": "GPU"
  },
  "cells": [
    {
      "cell_type": "markdown",
      "metadata": {
        "id": "view-in-github",
        "colab_type": "text"
      },
      "source": [
        "<a href=\"https://colab.research.google.com/github/JerryKurata/First-NN-Tensorflow/blob/master/TF_Getting_Started_M4_TF_House_price_regression.ipynb\" target=\"_parent\"><img src=\"https://colab.research.google.com/assets/colab-badge.svg\" alt=\"Open In Colab\"/></a>"
      ]
    },
    {
      "cell_type": "markdown",
      "metadata": {
        "id": "gpzj90oD__lN",
        "colab_type": "text"
      },
      "source": [
        "# Tensor Flow House Price Prediction\n",
        "\n",
        "This is a simple Tensorflow based notebook that applies the steps of the machine learning workflow to create, train, and test a model that will predict house prices.\n",
        "\n",
        "The notebook:\n",
        "\n",
        "*  Uses the steps of the machine workflow discussed in the course\n",
        "*  Illustrates how TensorFlow makes it easier to implement a machine learning solution\n",
        "*  Describes what is happening in various processing steps\n",
        "\n"
      ]
    },
    {
      "cell_type": "markdown",
      "metadata": {
        "id": "HMyAUbOqOGgU",
        "colab_type": "text"
      },
      "source": [
        "## Load correct version of TensorFlow\n",
        "Before we use TensorFlow we must load the correct version.  We want version 2.x.  To do this we execute the colab commands below.  Note that these commands **ONLY WORK IN COLAB.**"
      ]
    },
    {
      "cell_type": "code",
      "metadata": {
        "id": "uwTnmk_IPQbz",
        "colab_type": "code",
        "outputId": "4bf6341e-4b25-4b33-dd19-cc35798c815a",
        "colab": {
          "base_uri": "https://localhost:8080/",
          "height": 35
        }
      },
      "source": [
        "# Install TensorFlow using Colab's tensorflow_version command\n",
        "try:\n",
        "  # %tensorflow_version only exists in Colab.\n",
        "  %tensorflow_version 2.x\n",
        "except Exception:\n",
        "  pass\n"
      ],
      "execution_count": 1,
      "outputs": [
        {
          "output_type": "stream",
          "text": [
            "TensorFlow 2.x selected.\n"
          ],
          "name": "stdout"
        }
      ]
    },
    {
      "cell_type": "markdown",
      "metadata": {
        "id": "SaSlAAqoIiv6",
        "colab_type": "text"
      },
      "source": [
        "## Import Libraries\n",
        "\n",
        "We import TensorFlow, Numpy, and matplotlib libraries.  \n",
        "\n",
        "Numpy is a powerful N-dimensional array library that\n",
        "allows us to easily create and manipulate arrays of data, and more!\n",
        "\n",
        "Numpy also allows us to convert TensorFlow's native data structures,\n",
        "to python native data types.\n",
        "\n",
        "matplotlib is a graphics plot library"
      ]
    },
    {
      "cell_type": "code",
      "metadata": {
        "id": "qVJKEAqsIXEi",
        "colab_type": "code",
        "colab": {}
      },
      "source": [
        "# Import libraries\n",
        "import tensorflow as tf\n",
        "import numpy as np\n",
        "import matplotlib.pyplot as plt"
      ],
      "execution_count": 0,
      "outputs": []
    },
    {
      "cell_type": "code",
      "metadata": {
        "id": "_vjZGJOwSxmR",
        "colab_type": "code",
        "outputId": "05ce4878-f2ba-44c4-9135-89e643a60d2b",
        "colab": {
          "base_uri": "https://localhost:8080/",
          "height": 54
        }
      },
      "source": [
        "# Check TensorFlow version\n",
        "print(\"TensorFlow version:\", tf.__version__)\n",
        "\n",
        "# In colab we can get GPU acceleration if we install tensorflow-gpu \n",
        "#   and turn on GPU in Notebook settings\n",
        "print(\"GPU is available:\", tf.test.is_gpu_available())"
      ],
      "execution_count": 3,
      "outputs": [
        {
          "output_type": "stream",
          "text": [
            "TensorFlow version: 2.0.0\n",
            "GPU is available: True\n"
          ],
          "name": "stdout"
        }
      ]
    },
    {
      "cell_type": "markdown",
      "metadata": {
        "id": "MHIiwqsORnEb",
        "colab_type": "text"
      },
      "source": [
        "## Problem Statement\n",
        "\n",
        "Using example data, develop a model that predict house prices based on the size of a house.\n"
      ]
    },
    {
      "cell_type": "markdown",
      "metadata": {
        "id": "I7iNMKHlJa-F",
        "colab_type": "text"
      },
      "source": [
        "## Get Data\n",
        "\n",
        "In this example we will be using a truncated version of the Ames dataset that only contains information on homes sold in May 2010.\n",
        "\n",
        "### About the Ames dataset.\n",
        "\n",
        "The Ames dataset is a widely avalable dataset that has become one of the standard datasets used when\n",
        "predicting home prices based on features of the home. It is based on the great work of Dean De Cock.  His rational\n",
        "and insight into this dataset can be found at http://jse.amstat.org/v19n3/decock.pdf.\n",
        "\n",
        "\n",
        "### Getting the truncated dataset we use\n",
        "This data set can be found with the exercise files for this course.  The filename is **AmesHousing-05-2010.csv** .\n",
        "\n",
        "Before you run the code below, ensure you have downloaded the file to your computer.  \n",
        "\n",
        "And when prompted, browse to the file's location on your computer and upload the file.\n",
        "\n",
        "*Warning: The file upload function will only show the file selection dialog for 30 seconds.  After that time it will close and cause an error because a file was not specified.  This timeout prevents the file dialog from blocking events in colab.  If you experience this timeout select the dataset file sooner.  It may help to move the dataset file to an easier to specify location such as your desktop.*\n",
        "\n"
      ]
    },
    {
      "cell_type": "code",
      "metadata": {
        "id": "UtsmZTmC6qcS",
        "colab_type": "code",
        "outputId": "7b187e1f-fedf-4f91-cf0d-754ba0ac1258",
        "colab": {
          "resources": {
            "http://localhost:8080/nbextensions/google.colab/files.js": {
              "data": "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",
              "ok": true,
              "headers": [
                [
                  "content-type",
                  "application/javascript"
                ]
              ],
              "status": 200,
              "status_text": "OK"
            }
          },
          "base_uri": "https://localhost:8080/",
          "height": 95
        }
      },
      "source": [
        "# You need to upload the file, AmesHousing-05-2001.csv provided with this course\n",
        "from google.colab import files\n",
        "\n",
        "# only load the single file\n",
        "uploaded = files.upload()\n",
        "# csv_filename contains the name of the first, and only file uploaded\n",
        "csv_housefile = next(iter(uploaded.keys()))\n",
        "\n",
        "print('User uploaded file \"{name}\" with length {length} bytes'.format(\n",
        "      name=csv_housefile, length=len(uploaded[csv_housefile])))\n"
      ],
      "execution_count": 4,
      "outputs": [
        {
          "output_type": "display_data",
          "data": {
            "text/html": [
              "\n",
              "     <input type=\"file\" id=\"files-93573d4d-6606-4226-9635-a4df2bf43204\" name=\"files[]\" multiple disabled />\n",
              "     <output id=\"result-93573d4d-6606-4226-9635-a4df2bf43204\">\n",
              "      Upload widget is only available when the cell has been executed in the\n",
              "      current browser session. Please rerun this cell to enable.\n",
              "      </output>\n",
              "      <script src=\"/nbextensions/google.colab/files.js\"></script> "
            ],
            "text/plain": [
              "<IPython.core.display.HTML object>"
            ]
          },
          "metadata": {
            "tags": []
          }
        },
        {
          "output_type": "stream",
          "text": [
            "Saving AmesHousing-05-2010.csv to AmesHousing-05-2010.csv\n",
            "User uploaded file \"AmesHousing-05-2010.csv\" with length 20140 bytes\n"
          ],
          "name": "stdout"
        }
      ]
    },
    {
      "cell_type": "markdown",
      "metadata": {
        "id": "-hiXAp_v6urP",
        "colab_type": "text"
      },
      "source": [
        "### Load the data into a pandas dataframe\n",
        "\n",
        "Pandas let's use easily review and manipulate the data.  If you are new to pandas, see https://pandas.pydata.org/ and the pandas 10 minute intro  http://pandas.pydata.org/pandas-docs/stable/getting_started/10min.html to understand how pandas, and pandas dataframes makes working with tabular data in Python easy."
      ]
    },
    {
      "cell_type": "code",
      "metadata": {
        "id": "zveOHSXBItTU",
        "colab_type": "code",
        "colab": {}
      },
      "source": [
        "import io\n",
        "import pandas as pd\n",
        "\n",
        "# load the housing data into a pandas dataframe for easy viewing and manipulation\n",
        "df_housing = pd.read_csv(csv_housefile)"
      ],
      "execution_count": 0,
      "outputs": []
    },
    {
      "cell_type": "markdown",
      "metadata": {
        "id": "QC9Ygn0jynyW",
        "colab_type": "text"
      },
      "source": [
        "### Visualize the House Price data\n",
        "\n",
        "We use panda's  head method to look at the first few rows of data.  This will give use an understanding of the data we are working with.\n"
      ]
    },
    {
      "cell_type": "code",
      "metadata": {
        "id": "YtdGnno4zBeT",
        "colab_type": "code",
        "outputId": "4e590fb4-6981-482e-d03c-8fd52381e990",
        "colab": {
          "base_uri": "https://localhost:8080/",
          "height": 278
        }
      },
      "source": [
        "# Visualize the dataset\n",
        " \n",
        "# turn on option to display all columns, otherwise some columns may be hidden\n",
        "pd.set_option('display.max_columns', None)  \n",
        "# print the column names and first 5 rows of data\n",
        "df_housing.head(5)"
      ],
      "execution_count": 6,
      "outputs": [
        {
          "output_type": "execute_result",
          "data": {
            "text/html": [
              "<div>\n",
              "<style scoped>\n",
              "    .dataframe tbody tr th:only-of-type {\n",
              "        vertical-align: middle;\n",
              "    }\n",
              "\n",
              "    .dataframe tbody tr th {\n",
              "        vertical-align: top;\n",
              "    }\n",
              "\n",
              "    .dataframe thead th {\n",
              "        text-align: right;\n",
              "    }\n",
              "</style>\n",
              "<table border=\"1\" class=\"dataframe\">\n",
              "  <thead>\n",
              "    <tr style=\"text-align: right;\">\n",
              "      <th></th>\n",
              "      <th>Order</th>\n",
              "      <th>PID</th>\n",
              "      <th>MS SubClass</th>\n",
              "      <th>MS Zoning</th>\n",
              "      <th>Lot Frontage</th>\n",
              "      <th>Lot Area</th>\n",
              "      <th>Street</th>\n",
              "      <th>Alley</th>\n",
              "      <th>Lot Shape</th>\n",
              "      <th>Land Contour</th>\n",
              "      <th>Utilities</th>\n",
              "      <th>Lot Config</th>\n",
              "      <th>Land Slope</th>\n",
              "      <th>Neighborhood</th>\n",
              "      <th>Condition 1</th>\n",
              "      <th>Condition 2</th>\n",
              "      <th>Bldg Type</th>\n",
              "      <th>House Style</th>\n",
              "      <th>Overall Qual</th>\n",
              "      <th>Overall Cond</th>\n",
              "      <th>Year Built</th>\n",
              "      <th>Year Remod/Add</th>\n",
              "      <th>Roof Style</th>\n",
              "      <th>Roof Matl</th>\n",
              "      <th>Exterior 1st</th>\n",
              "      <th>Exterior 2nd</th>\n",
              "      <th>Mas Vnr Type</th>\n",
              "      <th>Mas Vnr Area</th>\n",
              "      <th>Exter Qual</th>\n",
              "      <th>Exter Cond</th>\n",
              "      <th>Foundation</th>\n",
              "      <th>Bsmt Qual</th>\n",
              "      <th>Bsmt Cond</th>\n",
              "      <th>Bsmt Exposure</th>\n",
              "      <th>BsmtFin Type 1</th>\n",
              "      <th>BsmtFin SF 1</th>\n",
              "      <th>BsmtFin Type 2</th>\n",
              "      <th>BsmtFin SF 2</th>\n",
              "      <th>Bsmt Unf SF</th>\n",
              "      <th>Total Bsmt SF</th>\n",
              "      <th>Heating</th>\n",
              "      <th>Heating QC</th>\n",
              "      <th>Central Air</th>\n",
              "      <th>Electrical</th>\n",
              "      <th>1st Flr SF</th>\n",
              "      <th>2nd Flr SF</th>\n",
              "      <th>Low Qual Fin SF</th>\n",
              "      <th>Gr Liv Area</th>\n",
              "      <th>Bsmt Full Bath</th>\n",
              "      <th>Bsmt Half Bath</th>\n",
              "      <th>Full Bath</th>\n",
              "      <th>Half Bath</th>\n",
              "      <th>Bedroom AbvGr</th>\n",
              "      <th>Kitchen AbvGr</th>\n",
              "      <th>Kitchen Qual</th>\n",
              "      <th>TotRms AbvGrd</th>\n",
              "      <th>Functional</th>\n",
              "      <th>Fireplaces</th>\n",
              "      <th>Fireplace Qu</th>\n",
              "      <th>Garage Type</th>\n",
              "      <th>Garage Yr Blt</th>\n",
              "      <th>Garage Finish</th>\n",
              "      <th>Garage Cars</th>\n",
              "      <th>Garage Area</th>\n",
              "      <th>Garage Qual</th>\n",
              "      <th>Garage Cond</th>\n",
              "      <th>Paved Drive</th>\n",
              "      <th>Wood Deck SF</th>\n",
              "      <th>Open Porch SF</th>\n",
              "      <th>Enclosed Porch</th>\n",
              "      <th>3Ssn Porch</th>\n",
              "      <th>Screen Porch</th>\n",
              "      <th>Pool Area</th>\n",
              "      <th>Pool QC</th>\n",
              "      <th>Fence</th>\n",
              "      <th>Misc Feature</th>\n",
              "      <th>Misc Val</th>\n",
              "      <th>Mo Sold</th>\n",
              "      <th>Yr Sold</th>\n",
              "      <th>Sale Type</th>\n",
              "      <th>Sale Condition</th>\n",
              "      <th>SalePrice</th>\n",
              "    </tr>\n",
              "  </thead>\n",
              "  <tbody>\n",
              "    <tr>\n",
              "      <th>0</th>\n",
              "      <td>1</td>\n",
              "      <td>526301100</td>\n",
              "      <td>20</td>\n",
              "      <td>RL</td>\n",
              "      <td>141.0</td>\n",
              "      <td>31770</td>\n",
              "      <td>Pave</td>\n",
              "      <td>NaN</td>\n",
              "      <td>IR1</td>\n",
              "      <td>Lvl</td>\n",
              "      <td>AllPub</td>\n",
              "      <td>Corner</td>\n",
              "      <td>Gtl</td>\n",
              "      <td>NAmes</td>\n",
              "      <td>Norm</td>\n",
              "      <td>Norm</td>\n",
              "      <td>1Fam</td>\n",
              "      <td>1Story</td>\n",
              "      <td>6</td>\n",
              "      <td>5</td>\n",
              "      <td>1960</td>\n",
              "      <td>1960</td>\n",
              "      <td>Hip</td>\n",
              "      <td>CompShg</td>\n",
              "      <td>BrkFace</td>\n",
              "      <td>Plywood</td>\n",
              "      <td>Stone</td>\n",
              "      <td>112.0</td>\n",
              "      <td>TA</td>\n",
              "      <td>TA</td>\n",
              "      <td>CBlock</td>\n",
              "      <td>TA</td>\n",
              "      <td>Gd</td>\n",
              "      <td>Gd</td>\n",
              "      <td>BLQ</td>\n",
              "      <td>639</td>\n",
              "      <td>Unf</td>\n",
              "      <td>0</td>\n",
              "      <td>441</td>\n",
              "      <td>1080</td>\n",
              "      <td>GasA</td>\n",
              "      <td>Fa</td>\n",
              "      <td>Y</td>\n",
              "      <td>SBrkr</td>\n",
              "      <td>1656</td>\n",
              "      <td>0</td>\n",
              "      <td>0</td>\n",
              "      <td>1656</td>\n",
              "      <td>1</td>\n",
              "      <td>0</td>\n",
              "      <td>1</td>\n",
              "      <td>0</td>\n",
              "      <td>3</td>\n",
              "      <td>1</td>\n",
              "      <td>TA</td>\n",
              "      <td>7</td>\n",
              "      <td>Typ</td>\n",
              "      <td>2</td>\n",
              "      <td>Gd</td>\n",
              "      <td>Attchd</td>\n",
              "      <td>1960.0</td>\n",
              "      <td>Fin</td>\n",
              "      <td>2</td>\n",
              "      <td>528</td>\n",
              "      <td>TA</td>\n",
              "      <td>TA</td>\n",
              "      <td>P</td>\n",
              "      <td>210</td>\n",
              "      <td>62</td>\n",
              "      <td>0</td>\n",
              "      <td>0</td>\n",
              "      <td>0</td>\n",
              "      <td>0</td>\n",
              "      <td>NaN</td>\n",
              "      <td>NaN</td>\n",
              "      <td>NaN</td>\n",
              "      <td>0</td>\n",
              "      <td>5</td>\n",
              "      <td>2010</td>\n",
              "      <td>WD</td>\n",
              "      <td>Normal</td>\n",
              "      <td>215000</td>\n",
              "    </tr>\n",
              "    <tr>\n",
              "      <th>1</th>\n",
              "      <td>13</td>\n",
              "      <td>527166040</td>\n",
              "      <td>60</td>\n",
              "      <td>RL</td>\n",
              "      <td>63.0</td>\n",
              "      <td>8402</td>\n",
              "      <td>Pave</td>\n",
              "      <td>NaN</td>\n",
              "      <td>IR1</td>\n",
              "      <td>Lvl</td>\n",
              "      <td>AllPub</td>\n",
              "      <td>Inside</td>\n",
              "      <td>Gtl</td>\n",
              "      <td>Gilbert</td>\n",
              "      <td>Norm</td>\n",
              "      <td>Norm</td>\n",
              "      <td>1Fam</td>\n",
              "      <td>2Story</td>\n",
              "      <td>6</td>\n",
              "      <td>5</td>\n",
              "      <td>1998</td>\n",
              "      <td>1998</td>\n",
              "      <td>Gable</td>\n",
              "      <td>CompShg</td>\n",
              "      <td>VinylSd</td>\n",
              "      <td>VinylSd</td>\n",
              "      <td>None</td>\n",
              "      <td>0.0</td>\n",
              "      <td>TA</td>\n",
              "      <td>TA</td>\n",
              "      <td>PConc</td>\n",
              "      <td>Gd</td>\n",
              "      <td>TA</td>\n",
              "      <td>No</td>\n",
              "      <td>Unf</td>\n",
              "      <td>0</td>\n",
              "      <td>Unf</td>\n",
              "      <td>0</td>\n",
              "      <td>789</td>\n",
              "      <td>789</td>\n",
              "      <td>GasA</td>\n",
              "      <td>Gd</td>\n",
              "      <td>Y</td>\n",
              "      <td>SBrkr</td>\n",
              "      <td>789</td>\n",
              "      <td>676</td>\n",
              "      <td>0</td>\n",
              "      <td>1465</td>\n",
              "      <td>0</td>\n",
              "      <td>0</td>\n",
              "      <td>2</td>\n",
              "      <td>1</td>\n",
              "      <td>3</td>\n",
              "      <td>1</td>\n",
              "      <td>TA</td>\n",
              "      <td>7</td>\n",
              "      <td>Typ</td>\n",
              "      <td>1</td>\n",
              "      <td>Gd</td>\n",
              "      <td>Attchd</td>\n",
              "      <td>1998.0</td>\n",
              "      <td>Fin</td>\n",
              "      <td>2</td>\n",
              "      <td>393</td>\n",
              "      <td>TA</td>\n",
              "      <td>TA</td>\n",
              "      <td>Y</td>\n",
              "      <td>0</td>\n",
              "      <td>75</td>\n",
              "      <td>0</td>\n",
              "      <td>0</td>\n",
              "      <td>0</td>\n",
              "      <td>0</td>\n",
              "      <td>NaN</td>\n",
              "      <td>NaN</td>\n",
              "      <td>NaN</td>\n",
              "      <td>0</td>\n",
              "      <td>5</td>\n",
              "      <td>2010</td>\n",
              "      <td>WD</td>\n",
              "      <td>Normal</td>\n",
              "      <td>180400</td>\n",
              "    </tr>\n",
              "    <tr>\n",
              "      <th>2</th>\n",
              "      <td>38</td>\n",
              "      <td>528112020</td>\n",
              "      <td>20</td>\n",
              "      <td>RL</td>\n",
              "      <td>98.0</td>\n",
              "      <td>11478</td>\n",
              "      <td>Pave</td>\n",
              "      <td>NaN</td>\n",
              "      <td>Reg</td>\n",
              "      <td>Lvl</td>\n",
              "      <td>AllPub</td>\n",
              "      <td>Inside</td>\n",
              "      <td>Gtl</td>\n",
              "      <td>NridgHt</td>\n",
              "      <td>Norm</td>\n",
              "      <td>Norm</td>\n",
              "      <td>1Fam</td>\n",
              "      <td>1Story</td>\n",
              "      <td>8</td>\n",
              "      <td>5</td>\n",
              "      <td>2007</td>\n",
              "      <td>2008</td>\n",
              "      <td>Gable</td>\n",
              "      <td>CompShg</td>\n",
              "      <td>VinylSd</td>\n",
              "      <td>VinylSd</td>\n",
              "      <td>Stone</td>\n",
              "      <td>200.0</td>\n",
              "      <td>Gd</td>\n",
              "      <td>TA</td>\n",
              "      <td>PConc</td>\n",
              "      <td>Ex</td>\n",
              "      <td>TA</td>\n",
              "      <td>No</td>\n",
              "      <td>GLQ</td>\n",
              "      <td>1218</td>\n",
              "      <td>Unf</td>\n",
              "      <td>0</td>\n",
              "      <td>486</td>\n",
              "      <td>1704</td>\n",
              "      <td>GasA</td>\n",
              "      <td>Ex</td>\n",
              "      <td>Y</td>\n",
              "      <td>SBrkr</td>\n",
              "      <td>1704</td>\n",
              "      <td>0</td>\n",
              "      <td>0</td>\n",
              "      <td>1704</td>\n",
              "      <td>1</td>\n",
              "      <td>0</td>\n",
              "      <td>2</td>\n",
              "      <td>0</td>\n",
              "      <td>3</td>\n",
              "      <td>1</td>\n",
              "      <td>Gd</td>\n",
              "      <td>7</td>\n",
              "      <td>Typ</td>\n",
              "      <td>1</td>\n",
              "      <td>Gd</td>\n",
              "      <td>Attchd</td>\n",
              "      <td>2008.0</td>\n",
              "      <td>RFn</td>\n",
              "      <td>3</td>\n",
              "      <td>772</td>\n",
              "      <td>TA</td>\n",
              "      <td>TA</td>\n",
              "      <td>Y</td>\n",
              "      <td>0</td>\n",
              "      <td>50</td>\n",
              "      <td>0</td>\n",
              "      <td>0</td>\n",
              "      <td>0</td>\n",
              "      <td>0</td>\n",
              "      <td>NaN</td>\n",
              "      <td>NaN</td>\n",
              "      <td>NaN</td>\n",
              "      <td>0</td>\n",
              "      <td>5</td>\n",
              "      <td>2010</td>\n",
              "      <td>WD</td>\n",
              "      <td>Normal</td>\n",
              "      <td>306000</td>\n",
              "    </tr>\n",
              "    <tr>\n",
              "      <th>3</th>\n",
              "      <td>56</td>\n",
              "      <td>528240070</td>\n",
              "      <td>60</td>\n",
              "      <td>RL</td>\n",
              "      <td>NaN</td>\n",
              "      <td>7851</td>\n",
              "      <td>Pave</td>\n",
              "      <td>NaN</td>\n",
              "      <td>Reg</td>\n",
              "      <td>Lvl</td>\n",
              "      <td>AllPub</td>\n",
              "      <td>Inside</td>\n",
              "      <td>Gtl</td>\n",
              "      <td>Gilbert</td>\n",
              "      <td>Norm</td>\n",
              "      <td>Norm</td>\n",
              "      <td>1Fam</td>\n",
              "      <td>2Story</td>\n",
              "      <td>6</td>\n",
              "      <td>5</td>\n",
              "      <td>2002</td>\n",
              "      <td>2002</td>\n",
              "      <td>Gable</td>\n",
              "      <td>CompShg</td>\n",
              "      <td>VinylSd</td>\n",
              "      <td>VinylSd</td>\n",
              "      <td>NaN</td>\n",
              "      <td>NaN</td>\n",
              "      <td>Gd</td>\n",
              "      <td>TA</td>\n",
              "      <td>PConc</td>\n",
              "      <td>Gd</td>\n",
              "      <td>TA</td>\n",
              "      <td>No</td>\n",
              "      <td>GLQ</td>\n",
              "      <td>625</td>\n",
              "      <td>Unf</td>\n",
              "      <td>0</td>\n",
              "      <td>235</td>\n",
              "      <td>860</td>\n",
              "      <td>GasA</td>\n",
              "      <td>Ex</td>\n",
              "      <td>Y</td>\n",
              "      <td>SBrkr</td>\n",
              "      <td>860</td>\n",
              "      <td>1100</td>\n",
              "      <td>0</td>\n",
              "      <td>1960</td>\n",
              "      <td>1</td>\n",
              "      <td>0</td>\n",
              "      <td>2</td>\n",
              "      <td>1</td>\n",
              "      <td>4</td>\n",
              "      <td>1</td>\n",
              "      <td>Gd</td>\n",
              "      <td>8</td>\n",
              "      <td>Typ</td>\n",
              "      <td>2</td>\n",
              "      <td>TA</td>\n",
              "      <td>BuiltIn</td>\n",
              "      <td>2002.0</td>\n",
              "      <td>Fin</td>\n",
              "      <td>2</td>\n",
              "      <td>440</td>\n",
              "      <td>TA</td>\n",
              "      <td>TA</td>\n",
              "      <td>Y</td>\n",
              "      <td>288</td>\n",
              "      <td>48</td>\n",
              "      <td>0</td>\n",
              "      <td>0</td>\n",
              "      <td>0</td>\n",
              "      <td>0</td>\n",
              "      <td>NaN</td>\n",
              "      <td>NaN</td>\n",
              "      <td>NaN</td>\n",
              "      <td>0</td>\n",
              "      <td>5</td>\n",
              "      <td>2010</td>\n",
              "      <td>WD</td>\n",
              "      <td>Normal</td>\n",
              "      <td>216500</td>\n",
              "    </tr>\n",
              "    <tr>\n",
              "      <th>4</th>\n",
              "      <td>59</td>\n",
              "      <td>528292020</td>\n",
              "      <td>60</td>\n",
              "      <td>RL</td>\n",
              "      <td>NaN</td>\n",
              "      <td>9505</td>\n",
              "      <td>Pave</td>\n",
              "      <td>NaN</td>\n",
              "      <td>IR1</td>\n",
              "      <td>Lvl</td>\n",
              "      <td>AllPub</td>\n",
              "      <td>CulDSac</td>\n",
              "      <td>Gtl</td>\n",
              "      <td>Gilbert</td>\n",
              "      <td>Norm</td>\n",
              "      <td>Norm</td>\n",
              "      <td>1Fam</td>\n",
              "      <td>2Story</td>\n",
              "      <td>7</td>\n",
              "      <td>5</td>\n",
              "      <td>2001</td>\n",
              "      <td>2001</td>\n",
              "      <td>Gable</td>\n",
              "      <td>CompShg</td>\n",
              "      <td>VinylSd</td>\n",
              "      <td>VinylSd</td>\n",
              "      <td>BrkFace</td>\n",
              "      <td>180.0</td>\n",
              "      <td>Gd</td>\n",
              "      <td>TA</td>\n",
              "      <td>PConc</td>\n",
              "      <td>Gd</td>\n",
              "      <td>TA</td>\n",
              "      <td>No</td>\n",
              "      <td>Unf</td>\n",
              "      <td>0</td>\n",
              "      <td>Unf</td>\n",
              "      <td>0</td>\n",
              "      <td>884</td>\n",
              "      <td>884</td>\n",
              "      <td>GasA</td>\n",
              "      <td>Ex</td>\n",
              "      <td>Y</td>\n",
              "      <td>SBrkr</td>\n",
              "      <td>884</td>\n",
              "      <td>1151</td>\n",
              "      <td>0</td>\n",
              "      <td>2035</td>\n",
              "      <td>0</td>\n",
              "      <td>0</td>\n",
              "      <td>2</td>\n",
              "      <td>1</td>\n",
              "      <td>3</td>\n",
              "      <td>1</td>\n",
              "      <td>Gd</td>\n",
              "      <td>8</td>\n",
              "      <td>Typ</td>\n",
              "      <td>1</td>\n",
              "      <td>Gd</td>\n",
              "      <td>BuiltIn</td>\n",
              "      <td>2001.0</td>\n",
              "      <td>Fin</td>\n",
              "      <td>2</td>\n",
              "      <td>434</td>\n",
              "      <td>TA</td>\n",
              "      <td>TA</td>\n",
              "      <td>Y</td>\n",
              "      <td>144</td>\n",
              "      <td>48</td>\n",
              "      <td>0</td>\n",
              "      <td>0</td>\n",
              "      <td>0</td>\n",
              "      <td>0</td>\n",
              "      <td>NaN</td>\n",
              "      <td>NaN</td>\n",
              "      <td>NaN</td>\n",
              "      <td>0</td>\n",
              "      <td>5</td>\n",
              "      <td>2010</td>\n",
              "      <td>WD</td>\n",
              "      <td>Normal</td>\n",
              "      <td>222500</td>\n",
              "    </tr>\n",
              "  </tbody>\n",
              "</table>\n",
              "</div>"
            ],
            "text/plain": [
              "   Order        PID  MS SubClass MS Zoning  Lot Frontage  Lot Area Street  \\\n",
              "0      1  526301100           20        RL         141.0     31770   Pave   \n",
              "1     13  527166040           60        RL          63.0      8402   Pave   \n",
              "2     38  528112020           20        RL          98.0     11478   Pave   \n",
              "3     56  528240070           60        RL           NaN      7851   Pave   \n",
              "4     59  528292020           60        RL           NaN      9505   Pave   \n",
              "\n",
              "  Alley Lot Shape Land Contour Utilities Lot Config Land Slope Neighborhood  \\\n",
              "0   NaN       IR1          Lvl    AllPub     Corner        Gtl        NAmes   \n",
              "1   NaN       IR1          Lvl    AllPub     Inside        Gtl      Gilbert   \n",
              "2   NaN       Reg          Lvl    AllPub     Inside        Gtl      NridgHt   \n",
              "3   NaN       Reg          Lvl    AllPub     Inside        Gtl      Gilbert   \n",
              "4   NaN       IR1          Lvl    AllPub    CulDSac        Gtl      Gilbert   \n",
              "\n",
              "  Condition 1 Condition 2 Bldg Type House Style  Overall Qual  Overall Cond  \\\n",
              "0        Norm        Norm      1Fam      1Story             6             5   \n",
              "1        Norm        Norm      1Fam      2Story             6             5   \n",
              "2        Norm        Norm      1Fam      1Story             8             5   \n",
              "3        Norm        Norm      1Fam      2Story             6             5   \n",
              "4        Norm        Norm      1Fam      2Story             7             5   \n",
              "\n",
              "   Year Built  Year Remod/Add Roof Style Roof Matl Exterior 1st Exterior 2nd  \\\n",
              "0        1960            1960        Hip   CompShg      BrkFace      Plywood   \n",
              "1        1998            1998      Gable   CompShg      VinylSd      VinylSd   \n",
              "2        2007            2008      Gable   CompShg      VinylSd      VinylSd   \n",
              "3        2002            2002      Gable   CompShg      VinylSd      VinylSd   \n",
              "4        2001            2001      Gable   CompShg      VinylSd      VinylSd   \n",
              "\n",
              "  Mas Vnr Type  Mas Vnr Area Exter Qual Exter Cond Foundation Bsmt Qual  \\\n",
              "0        Stone         112.0         TA         TA     CBlock        TA   \n",
              "1         None           0.0         TA         TA      PConc        Gd   \n",
              "2        Stone         200.0         Gd         TA      PConc        Ex   \n",
              "3          NaN           NaN         Gd         TA      PConc        Gd   \n",
              "4      BrkFace         180.0         Gd         TA      PConc        Gd   \n",
              "\n",
              "  Bsmt Cond Bsmt Exposure BsmtFin Type 1  BsmtFin SF 1 BsmtFin Type 2  \\\n",
              "0        Gd            Gd            BLQ           639            Unf   \n",
              "1        TA            No            Unf             0            Unf   \n",
              "2        TA            No            GLQ          1218            Unf   \n",
              "3        TA            No            GLQ           625            Unf   \n",
              "4        TA            No            Unf             0            Unf   \n",
              "\n",
              "   BsmtFin SF 2  Bsmt Unf SF  Total Bsmt SF Heating Heating QC Central Air  \\\n",
              "0             0          441           1080    GasA         Fa           Y   \n",
              "1             0          789            789    GasA         Gd           Y   \n",
              "2             0          486           1704    GasA         Ex           Y   \n",
              "3             0          235            860    GasA         Ex           Y   \n",
              "4             0          884            884    GasA         Ex           Y   \n",
              "\n",
              "  Electrical  1st Flr SF  2nd Flr SF  Low Qual Fin SF  Gr Liv Area  \\\n",
              "0      SBrkr        1656           0                0         1656   \n",
              "1      SBrkr         789         676                0         1465   \n",
              "2      SBrkr        1704           0                0         1704   \n",
              "3      SBrkr         860        1100                0         1960   \n",
              "4      SBrkr         884        1151                0         2035   \n",
              "\n",
              "   Bsmt Full Bath  Bsmt Half Bath  Full Bath  Half Bath  Bedroom AbvGr  \\\n",
              "0               1               0          1          0              3   \n",
              "1               0               0          2          1              3   \n",
              "2               1               0          2          0              3   \n",
              "3               1               0          2          1              4   \n",
              "4               0               0          2          1              3   \n",
              "\n",
              "   Kitchen AbvGr Kitchen Qual  TotRms AbvGrd Functional  Fireplaces  \\\n",
              "0              1           TA              7        Typ           2   \n",
              "1              1           TA              7        Typ           1   \n",
              "2              1           Gd              7        Typ           1   \n",
              "3              1           Gd              8        Typ           2   \n",
              "4              1           Gd              8        Typ           1   \n",
              "\n",
              "  Fireplace Qu Garage Type  Garage Yr Blt Garage Finish  Garage Cars  \\\n",
              "0           Gd      Attchd         1960.0           Fin            2   \n",
              "1           Gd      Attchd         1998.0           Fin            2   \n",
              "2           Gd      Attchd         2008.0           RFn            3   \n",
              "3           TA     BuiltIn         2002.0           Fin            2   \n",
              "4           Gd     BuiltIn         2001.0           Fin            2   \n",
              "\n",
              "   Garage Area Garage Qual Garage Cond Paved Drive  Wood Deck SF  \\\n",
              "0          528          TA          TA           P           210   \n",
              "1          393          TA          TA           Y             0   \n",
              "2          772          TA          TA           Y             0   \n",
              "3          440          TA          TA           Y           288   \n",
              "4          434          TA          TA           Y           144   \n",
              "\n",
              "   Open Porch SF  Enclosed Porch  3Ssn Porch  Screen Porch  Pool Area  \\\n",
              "0             62               0           0             0          0   \n",
              "1             75               0           0             0          0   \n",
              "2             50               0           0             0          0   \n",
              "3             48               0           0             0          0   \n",
              "4             48               0           0             0          0   \n",
              "\n",
              "   Pool QC Fence Misc Feature  Misc Val  Mo Sold  Yr Sold Sale Type  \\\n",
              "0      NaN   NaN          NaN         0        5     2010       WD    \n",
              "1      NaN   NaN          NaN         0        5     2010       WD    \n",
              "2      NaN   NaN          NaN         0        5     2010       WD    \n",
              "3      NaN   NaN          NaN         0        5     2010       WD    \n",
              "4      NaN   NaN          NaN         0        5     2010       WD    \n",
              "\n",
              "  Sale Condition  SalePrice  \n",
              "0         Normal     215000  \n",
              "1         Normal     180400  \n",
              "2         Normal     306000  \n",
              "3         Normal     216500  \n",
              "4         Normal     222500  "
            ]
          },
          "metadata": {
            "tags": []
          },
          "execution_count": 6
        }
      ]
    },
    {
      "cell_type": "markdown",
      "metadata": {
        "id": "H8urfea9zAhH",
        "colab_type": "text"
      },
      "source": [
        "Lots of feature columns.  From documentation of previous work with this data I believe that we can account for most of the difference in price (SalePrice) based on the size of the house. \n",
        "\n",
        "Looking through the columns we see the following features contains 'SF': BsmtFin SF 1, BsmtFin SF 2, Bsmt Unf SF, Total Bsmt SF,  1st Flr SF, 2nd Flr SF, Low Qual Fin SF. \n",
        "\n",
        "A little more checking the data and we see in the data that there are summary columns for the bsement square footage and the above basement square footage.  Specific the feature columns Total Bsmt SF and Gr Liv Area sum the space as follows:\n",
        "\n",
        "\n",
        "\n",
        ">  Total Bsmt SF = BsmtFin SF 1 +  BsmtFin SF 2 + Bsmt Unf SF \n",
        "\n",
        "> Gr Liv Area =  1st Flr SF +  2nd Flr SF\n",
        "\n",
        "But, there is no feature for the total space in the house which is the sum of Basement and Upper floors or (Total Bsmt SF + Gr Liv Area ).  So let's add a new feature column containing this value called 'Total SF' to the dataset.\n",
        "\n",
        "But, before we proceed, let's see if the feature columns we are dependent upon contain missing values that will effect our results.  If so, we can remove the rows with missing columns or determine a way of imputing (updating the values) the missing columns.\n"
      ]
    },
    {
      "cell_type": "code",
      "metadata": {
        "id": "9gc0jzZYvLsl",
        "colab_type": "code",
        "outputId": "e3bf9cd7-ca7d-410f-ffa6-a2ff7d45c0a9",
        "colab": {
          "base_uri": "https://localhost:8080/",
          "height": 35
        }
      },
      "source": [
        " df_housing[['Total Bsmt SF', 'Gr Liv Area']].isnull().values.any()"
      ],
      "execution_count": 7,
      "outputs": [
        {
          "output_type": "execute_result",
          "data": {
            "text/plain": [
              "False"
            ]
          },
          "metadata": {
            "tags": []
          },
          "execution_count": 7
        }
      ]
    },
    {
      "cell_type": "markdown",
      "metadata": {
        "id": "oDHSGCWCw6KJ",
        "colab_type": "text"
      },
      "source": [
        "No missing values, so additional work is required.  So we can add the new column Total SF."
      ]
    },
    {
      "cell_type": "code",
      "metadata": {
        "id": "Lh3dHm0U-aY9",
        "colab_type": "code",
        "colab": {}
      },
      "source": [
        "# Add new feature column Total SF = Total Bsmt SF + Gr Liv Area\n",
        "df_housing['Total SF'] = df_housing['Total Bsmt SF'] + df_housing['Gr Liv Area']\n"
      ],
      "execution_count": 0,
      "outputs": []
    },
    {
      "cell_type": "markdown",
      "metadata": {
        "id": "I8WXLZlB3l0N",
        "colab_type": "text"
      },
      "source": [
        "And we can check the numbers add and see associated sale price "
      ]
    },
    {
      "cell_type": "code",
      "metadata": {
        "id": "l4LQHNxWDBRc",
        "colab_type": "code",
        "outputId": "a26a2a3c-76dc-4b6f-96f1-c501b1100f1e",
        "colab": {
          "base_uri": "https://localhost:8080/",
          "height": 127
        }
      },
      "source": [
        "# see the  bsmt and living area, total sf, and price columns\n",
        "print(df_housing[['Total Bsmt SF', 'Gr Liv Area', 'Total SF', 'SalePrice']].head(5) )"
      ],
      "execution_count": 9,
      "outputs": [
        {
          "output_type": "stream",
          "text": [
            "   Total Bsmt SF  Gr Liv Area  Total SF  SalePrice\n",
            "0           1080         1656      2736     215000\n",
            "1            789         1465      2254     180400\n",
            "2           1704         1704      3408     306000\n",
            "3            860         1960      2820     216500\n",
            "4            884         2035      2919     222500\n"
          ],
          "name": "stdout"
        }
      ]
    },
    {
      "cell_type": "markdown",
      "metadata": {
        "id": "aORObOZrKIMA",
        "colab_type": "text"
      },
      "source": [
        "### Visualize the data.  \n",
        "\n",
        "We visualize the data to give us some idea of the relationships between the various features.  To do that we create a  function to plot the data.\n",
        " \n",
        " \n",
        " \n"
      ]
    },
    {
      "cell_type": "code",
      "metadata": {
        "id": "E7hTDDs6qw0R",
        "colab_type": "code",
        "colab": {}
      },
      "source": [
        "# This function visualizes our data and optionally a learned line\n",
        "def visualize_data(x_vals, y_vals,\n",
        "                   addn_x_vals=None, addn_y_vals=None, add_addn_reg_line=False):\n",
        "  \n",
        "  f, ax = plt.subplots(figsize=(8,8))\n",
        "  plt.plot(x_vals, y_vals, 'ro')   # red dot for each data point\n",
        "  # Optional plot another set of data points in a different color and symbol\n",
        "  if (addn_x_vals is not None):\n",
        "    plt.plot(addn_x_vals, addn_y_vals, 'g^') # green triangles for addition data points\n",
        "    # Optionally, draw points of x,y pairs as green triangles.\n",
        "    if (add_addn_reg_line):\n",
        "      x_min_index = addn_x_vals.argmin()\n",
        "      x_max_index = addn_x_vals.argmax()\n",
        "      print(x_min_index,[addn_x_vals[x_min_index],addn_y_vals[x_min_index]] ) \n",
        "      print(x_max_index,[addn_x_vals[x_max_index],addn_y_vals[x_max_index]] ) \n",
        "      plt.plot([addn_x_vals[x_min_index],addn_y_vals[x_min_index]], \n",
        "               [addn_x_vals[x_max_index],addn_y_vals[x_max_index]], \n",
        "               'b-')  # draw a blue regression line\n",
        "    \n",
        "  plt.tick_params(axis='both', which='major', labelsize=14)\n",
        "  \n",
        "  plt.show()  # now plot the line showing the data and optionally the line"
      ],
      "execution_count": 0,
      "outputs": []
    },
    {
      "cell_type": "markdown",
      "metadata": {
        "id": "7d887fwIbFP1",
        "colab_type": "text"
      },
      "source": [
        "### Visualizing Total SF and Price\n",
        "\n",
        "Using the visualize data function we can see the relationship between Total Square Feet (Total SF) and Price."
      ]
    },
    {
      "cell_type": "code",
      "metadata": {
        "id": "9PyYXnSZ9v9R",
        "colab_type": "code",
        "outputId": "5fb4fece-fdf8-4a9c-fc10-a0627e0e9c77",
        "colab": {
          "base_uri": "https://localhost:8080/",
          "height": 487
        }
      },
      "source": [
        "# Plot Price vs. Total SF\n",
        "visualize_data(df_housing['Total SF'], df_housing['SalePrice'])\n",
        "\n"
      ],
      "execution_count": 11,
      "outputs": [
        {
          "output_type": "display_data",
          "data": {
            "image/png": "[encoded data removed]",
            "text/plain": [
              "<Figure size 576x576 with 1 Axes>"
            ]
          },
          "metadata": {
            "tags": []
          }
        }
      ]
    },
    {
      "cell_type": "markdown",
      "metadata": {
        "id": "eJjuAi3sb76r",
        "colab_type": "text"
      },
      "source": [
        "### What does the visualization tell us?\n",
        "\n",
        "There seems to definitely be a **linear** relationship between the size of the house (as shown in Total SF) and Price.  \n",
        "\n",
        "This suggests that we should perform Linear Regression. Where the relationship in the data is:\n",
        " y = f(x).  Or in our case, Price = f(Total SF)\n",
        " \n",
        "With respect to defining the function f(x), we can sum the difference between traditional programming and Machine Learning as:\n",
        "\n",
        "* In tradition programming **we define what f(x)** is through structures such as equations or conditional statements\n",
        "\n",
        "* In Machine Learning, our model **learns from the data** what the function f(x) is."
      ]
    },
    {
      "cell_type": "markdown",
      "metadata": {
        "id": "kWm_EBhwfTvX",
        "colab_type": "text"
      },
      "source": [
        "### Additional Pre-processing\n",
        "\n",
        "Before we can use our data, we want to do 2 tasks.\n",
        "\n",
        "1.   Scale the data.  If values are on very different scales it will be difficult for the model to determine the relationships between features.  With our data, Square Footage(SF) ranges from 800-4200, and Prices range from 80,000 to 400,0000.  This means there is a nearly 100 times different in scale.  When we normalize we will reduce both qualtities to the same scale while preserving the differences between prices and sizes of homes.  This will help our model learn the relationship between price and size.\n",
        "\n",
        "2.   Once we have this new dataset we want to split the dataset into 2 dataset.  One dataset will be used for training, and other dataset will used for testing.  **We never used testing data for training or training data for testing.**"
      ]
    },
    {
      "cell_type": "code",
      "metadata": {
        "id": "5n-zGuMN6np6",
        "colab_type": "code",
        "colab": {}
      },
      "source": [
        "# Scale data so SF and Sale Price are on similar scales with values \n",
        "#  from 0.0 to 1.0\n",
        "\n",
        "from sklearn.preprocessing import MinMaxScaler\n",
        "\n",
        "sf_scaler = MinMaxScaler()\n",
        "sf_scaled = sf_scaler.fit_transform(df_housing['Total SF'].values.reshape(-1,1).astype(np.float64))\n",
        "    \n",
        "price_scaler = MinMaxScaler()\n",
        "price_scaled = price_scaler.fit_transform(df_housing['SalePrice'].values.reshape(-1,1).astype(np.float64))"
      ],
      "execution_count": 0,
      "outputs": []
    },
    {
      "cell_type": "code",
      "metadata": {
        "id": "lfiBK8VwC62y",
        "colab_type": "code",
        "colab": {}
      },
      "source": [
        "# Split the dataset into training dataset - 70%, Testing dateset - 30%\n",
        "# we do this using the sklearn train_test_split method\n",
        "from sklearn.model_selection import train_test_split\n",
        "\n",
        "sf_train_scaled, sf_test_scaled, price_train_scaled, price_test_scaled = train_test_split(sf_scaled, \n",
        "                                                    price_scaled, \n",
        "                                                    test_size=0.3, random_state=42)"
      ],
      "execution_count": 0,
      "outputs": []
    },
    {
      "cell_type": "markdown",
      "metadata": {
        "id": "2VSO8dVIW5Fb",
        "colab_type": "text"
      },
      "source": [
        "## Create Model\n",
        "\n",
        "Here we create a model to learn from our data.  Our data looks linearly related, so can use a straight line\n",
        "to fit our data.  So we are going to create a model that is based on the equation of a straight line.\n",
        "\n",
        "And from our training data we will learn line once we can define this line's parameters we can use it's equation to predict the value of any future data.\n",
        "\n",
        "We use Tensorflow's Keras library to make the process easy.\n",
        "\n",
        "We create a sequential model with where the output of one layer becomes the input of the next layer.\n",
        "\n",
        "This model will is a simple Neural Network that implements y = wx + bias, where **w is a weight** and **bias is an offset**.\n",
        "\n",
        "*You may recognize from Geometry that y = wx + bias is the equation of straight line, where w is the slope and bias is the offset.  (See https://en.wikipedia.org/wiki/Line_(geometry) for a description.)*\n",
        "\n",
        "Therefore the goal is to use our data to train the model and learn the best values for w and bias.\n"
      ]
    },
    {
      "cell_type": "markdown",
      "metadata": {
        "id": "o30MyqTYepiV",
        "colab_type": "text"
      },
      "source": [
        "### Our Model\n",
        "\n",
        "We create our linear model using TensorFlow's Keras library.   Using Keras makes it easy for us to create, train, and evaluate our model.\n",
        "\n"
      ]
    },
    {
      "cell_type": "code",
      "metadata": {
        "id": "SgcsUBmf_guO",
        "colab_type": "code",
        "colab": {}
      },
      "source": [
        "# Create model using the TensorFlow Keras library\n",
        "model = tf.keras.Sequential()\n",
        "model.add(tf.keras.layers.Dense(units=1, activation='linear', input_shape=[1]))\n"
      ],
      "execution_count": 0,
      "outputs": []
    },
    {
      "cell_type": "markdown",
      "metadata": {
        "id": "LH040S8DdMTS",
        "colab_type": "text"
      },
      "source": [
        "### Compile the model\n",
        "\n",
        "The model is now defined, but is not trained, or even ready to be trained.\n",
        "\n",
        "We will train the model by passing training data throught it and adjusting the weight and bias to reduce loss (error).  To perform these tasks we need a method for \n",
        "*  measuring loss and \n",
        "*  optimizing the values of the weight and bias to minimize this loss. \n",
        "\n",
        "There are many ways of measuring loss and optimizing the values.  We are going to use **Mean-Squared Error** ('mean_squared_error') to measure loss, and the process of **Stochasitic Gradient Descent** ('sgd') to find the optimal weight and bias to minimize the loss. *Note: We use the variant of sgd called mini-batch gradient descent.  And set the batch size in the fit method below.*\n",
        "\n",
        "We set these parameters for the model with the **compile** statement. "
      ]
    },
    {
      "cell_type": "code",
      "metadata": {
        "id": "KMYudNJpY9dY",
        "colab_type": "code",
        "colab": {}
      },
      "source": [
        "# Compile model\n",
        "optimizer = \"sgd\"\n",
        "model.compile(loss='mean_squared_error', optimizer=optimizer )\n"
      ],
      "execution_count": 0,
      "outputs": []
    },
    {
      "cell_type": "markdown",
      "metadata": {
        "id": "O8a2y8xinVmf",
        "colab_type": "text"
      },
      "source": [
        "## Train the Model\n",
        "\n",
        "Once the model has been defined and training methodology compiled we can train the model.  We do this with our training data.  We pass the training data through the model multiple times.  And on each pass the loss function we defined in the model compile will be used to calculate loss.  And the optimizer will be used to make adjustments to the weights and bias (just called weights from hear on) to minimize this error.  \n",
        "\n",
        "We will repeat this process of calculating the loss with the current weights, measuring loss, and updating the weights to minimize loss for the specified number of **epochs**.  *We should see the loss decrease over time *\n",
        "\n",
        "\n",
        "We can set *verbose* flag to tell Keras how much information to show during the training process, 0 is none, 1 and 2 show more in-progress information."
      ]
    },
    {
      "cell_type": "code",
      "metadata": {
        "id": "HOCRKtgMnSLk",
        "colab_type": "code",
        "outputId": "fd671c8a-8ff3-4cee-fc9d-3a63d908e1e9",
        "colab": {
          "base_uri": "https://localhost:8080/",
          "height": 329
        }
      },
      "source": [
        "\n",
        "# Train model using data\n",
        "initial_epochs = 8\n",
        "batch_size = 10\n",
        "train_hist = model.fit(sf_train_scaled, price_train_scaled, \n",
        "                       epochs=initial_epochs, batch_size=batch_size, verbose=1)\n",
        "\n",
        "# Is 8 epochs enough??? Maybe/Maybe not"
      ],
      "execution_count": 16,
      "outputs": [
        {
          "output_type": "stream",
          "text": [
            "Train on 41 samples\n",
            "Epoch 1/8\n",
            "41/41 [==============================] - 1s 33ms/sample - loss: 0.0199\n",
            "Epoch 2/8\n",
            "41/41 [==============================] - 0s 536us/sample - loss: 0.0188\n",
            "Epoch 3/8\n",
            "41/41 [==============================] - 0s 449us/sample - loss: 0.0183\n",
            "Epoch 4/8\n",
            "41/41 [==============================] - 0s 500us/sample - loss: 0.0172\n",
            "Epoch 5/8\n",
            "41/41 [==============================] - 0s 453us/sample - loss: 0.0164\n",
            "Epoch 6/8\n",
            "41/41 [==============================] - 0s 453us/sample - loss: 0.0161\n",
            "Epoch 7/8\n",
            "41/41 [==============================] - 0s 510us/sample - loss: 0.0155\n",
            "Epoch 8/8\n",
            "41/41 [==============================] - 0s 383us/sample - loss: 0.0153\n"
          ],
          "name": "stdout"
        }
      ]
    },
    {
      "cell_type": "markdown",
      "metadata": {
        "id": "NXB_5zlkvEpt",
        "colab_type": "text"
      },
      "source": [
        "### Visually Confirm Model Training\n",
        "\n",
        "Our model learned the best weight and bias for our training data.  Let's see if a line drawn with these learned weight and bias looks reasonable."
      ]
    },
    {
      "cell_type": "code",
      "metadata": {
        "id": "1KPJ8zLCJYw1",
        "colab_type": "code",
        "outputId": "294e0bbb-5a1a-484b-9f59-8bfc9e9aa231",
        "colab": {
          "base_uri": "https://localhost:8080/",
          "height": 487
        }
      },
      "source": [
        "\n",
        "#  predict the price with our trained model\n",
        "price_predicted_scaled =  model.predict(sf_train_scaled)\n",
        "visualize_data(sf_scaler.inverse_transform(sf_train_scaled), price_scaler.inverse_transform(price_train_scaled),\n",
        "               sf_scaler.inverse_transform(sf_train_scaled), price_scaler.inverse_transform(price_predicted_scaled),\n",
        "               add_addn_reg_line=False)\n",
        "               \n",
        "# If line looks bad, what do we do?"
      ],
      "execution_count": 17,
      "outputs": [
        {
          "output_type": "display_data",
          "data": {
            "image/png": "[encoded data removed]",
            "text/plain": [
              "<Figure size 576x576 with 1 Axes>"
            ]
          },
          "metadata": {
            "tags": []
          }
        }
      ]
    },
    {
      "cell_type": "markdown",
      "metadata": {
        "id": "vP7E7zNb71zw",
        "colab_type": "text"
      },
      "source": [
        "### Evaluate Training\n",
        "\n",
        "\n",
        "Does not looks too good !!!\n",
        "\n",
        "What can we do?  \n",
        "\n",
        "Should we change model architecture?  Does linear look incorrect?  \n",
        "\n",
        "> NO\n",
        "\n",
        "\n",
        "What does loss look like?\n"
      ]
    },
    {
      "cell_type": "code",
      "metadata": {
        "id": "bVoztVaenFsr",
        "colab_type": "code",
        "outputId": "dc1a912d-1300-4551-f207-28d12d9ed662",
        "colab": {
          "base_uri": "https://localhost:8080/",
          "height": 313
        }
      },
      "source": [
        "def plot_loss(hist):\n",
        "  # plot the loss\n",
        "  plt.title('Loss History')\n",
        "  plt.plot(hist.history['loss'])\n",
        "  plt.ylabel('loss')\n",
        "  plt.xlabel('epoch')\n",
        "  plt.show()\n",
        "\n",
        "print(type(train_hist))\n",
        "plot_loss(train_hist)"
      ],
      "execution_count": 18,
      "outputs": [
        {
          "output_type": "stream",
          "text": [
            "<class 'tensorflow.python.keras.callbacks.History'>\n"
          ],
          "name": "stdout"
        },
        {
          "output_type": "display_data",
          "data": {
            "image/png": "[encoded data removed]",
            "text/plain": [
              "<Figure size 432x288 with 1 Axes>"
            ]
          },
          "metadata": {
            "tags": []
          }
        }
      ]
    },
    {
      "cell_type": "markdown",
      "metadata": {
        "id": "bWEO8ONjm9gm",
        "colab_type": "text"
      },
      "source": [
        "\n",
        "\n",
        "> LOSS STILL LOOK HIGH.  BUT IS DECREASING.\n",
        "\n",
        "\n",
        "\n",
        "Perhaps we have not converged.  What can we do????  \n",
        "\n",
        "Train with more data?  \n",
        "\n",
        "> NO.  WE HAVE ALL THE DATA\n",
        "\n",
        "Train for more epochs and check loss to ensure values have converged?\n",
        " > YES!!!"
      ]
    },
    {
      "cell_type": "markdown",
      "metadata": {
        "id": "Nez9pMAyhNll",
        "colab_type": "text"
      },
      "source": [
        "### Training more epochs\n",
        "\n",
        "The model is partially trained but the results are not great.  Let's go back and train the model some more. \n",
        "\n",
        "The question is how much more?  \n",
        "\n",
        "We want to ensure the model is converged to a range of loss values.   So what we will see in the training output is the loss value starts to stay in a specific range .   It may go up or down a little, but there should be a stable range."
      ]
    },
    {
      "cell_type": "code",
      "metadata": {
        "id": "h2azhJj0hd7t",
        "colab_type": "code",
        "outputId": "9142cb5b-2b56-41a5-e7bd-af0bb73e65c9",
        "colab": {
          "base_uri": "https://localhost:8080/",
          "height": 1000
        }
      },
      "source": [
        "# Train model using data.  This time, train for additional epochs\n",
        "# Also capture the changed over time in the history variable, train_hist so we \n",
        "#   can see if loss is converging\n",
        "addn_epochs = 100\n",
        "train_hist_addn =model.fit(sf_train_scaled, price_train_scaled,  \n",
        "                     epochs=addn_epochs, verbose=1)"
      ],
      "execution_count": 19,
      "outputs": [
        {
          "output_type": "stream",
          "text": [
            "Train on 41 samples\n",
            "Epoch 1/100\n",
            "41/41 [==============================] - 0s 475us/sample - loss: 0.0145\n",
            "Epoch 2/100\n",
            "41/41 [==============================] - 0s 304us/sample - loss: 0.0144\n",
            "Epoch 3/100\n",
            "41/41 [==============================] - 0s 240us/sample - loss: 0.0143\n",
            "Epoch 4/100\n",
            "41/41 [==============================] - 0s 267us/sample - loss: 0.0143\n",
            "Epoch 5/100\n",
            "41/41 [==============================] - 0s 288us/sample - loss: 0.0142\n",
            "Epoch 6/100\n",
            "41/41 [==============================] - 0s 276us/sample - loss: 0.0142\n",
            "Epoch 7/100\n",
            "41/41 [==============================] - 0s 288us/sample - loss: 0.0142\n",
            "Epoch 8/100\n",
            "41/41 [==============================] - 0s 269us/sample - loss: 0.0141\n",
            "Epoch 9/100\n",
            "41/41 [==============================] - 0s 279us/sample - loss: 0.0141\n",
            "Epoch 10/100\n",
            "41/41 [==============================] - 0s 282us/sample - loss: 0.0140\n",
            "Epoch 11/100\n",
            "41/41 [==============================] - 0s 260us/sample - loss: 0.0140\n",
            "Epoch 12/100\n",
            "41/41 [==============================] - 0s 298us/sample - loss: 0.0139\n",
            "Epoch 13/100\n",
            "41/41 [==============================] - 0s 320us/sample - loss: 0.0139\n",
            "Epoch 14/100\n",
            "41/41 [==============================] - 0s 240us/sample - loss: 0.0139\n",
            "Epoch 15/100\n",
            "41/41 [==============================] - 0s 264us/sample - loss: 0.0139\n",
            "Epoch 16/100\n",
            "41/41 [==============================] - 0s 242us/sample - loss: 0.0138\n",
            "Epoch 17/100\n",
            "41/41 [==============================] - 0s 292us/sample - loss: 0.0138\n",
            "Epoch 18/100\n",
            "41/41 [==============================] - 0s 554us/sample - loss: 0.0138\n",
            "Epoch 19/100\n",
            "41/41 [==============================] - 0s 381us/sample - loss: 0.0138\n",
            "Epoch 20/100\n",
            "41/41 [==============================] - 0s 369us/sample - loss: 0.0138\n",
            "Epoch 21/100\n",
            "41/41 [==============================] - 0s 384us/sample - loss: 0.0138\n",
            "Epoch 22/100\n",
            "41/41 [==============================] - 0s 378us/sample - loss: 0.0137\n",
            "Epoch 23/100\n",
            "41/41 [==============================] - 0s 494us/sample - loss: 0.0137\n",
            "Epoch 24/100\n",
            "41/41 [==============================] - 0s 314us/sample - loss: 0.0137\n",
            "Epoch 25/100\n",
            "41/41 [==============================] - 0s 297us/sample - loss: 0.0137\n",
            "Epoch 26/100\n",
            "41/41 [==============================] - 0s 379us/sample - loss: 0.0137\n",
            "Epoch 27/100\n",
            "41/41 [==============================] - 0s 283us/sample - loss: 0.0137\n",
            "Epoch 28/100\n",
            "41/41 [==============================] - 0s 351us/sample - loss: 0.0137\n",
            "Epoch 29/100\n",
            "41/41 [==============================] - 0s 360us/sample - loss: 0.0137\n",
            "Epoch 30/100\n",
            "41/41 [==============================] - 0s 337us/sample - loss: 0.0136\n",
            "Epoch 31/100\n",
            "41/41 [==============================] - 0s 290us/sample - loss: 0.0136\n",
            "Epoch 32/100\n",
            "41/41 [==============================] - 0s 298us/sample - loss: 0.0136\n",
            "Epoch 33/100\n",
            "41/41 [==============================] - 0s 263us/sample - loss: 0.0136\n",
            "Epoch 34/100\n",
            "41/41 [==============================] - 0s 385us/sample - loss: 0.0136\n",
            "Epoch 35/100\n",
            "41/41 [==============================] - 0s 251us/sample - loss: 0.0136\n",
            "Epoch 36/100\n",
            "41/41 [==============================] - 0s 340us/sample - loss: 0.0136\n",
            "Epoch 37/100\n",
            "41/41 [==============================] - 0s 366us/sample - loss: 0.0137\n",
            "Epoch 38/100\n",
            "41/41 [==============================] - 0s 286us/sample - loss: 0.0136\n",
            "Epoch 39/100\n",
            "41/41 [==============================] - 0s 311us/sample - loss: 0.0136\n",
            "Epoch 40/100\n",
            "41/41 [==============================] - 0s 307us/sample - loss: 0.0136\n",
            "Epoch 41/100\n",
            "41/41 [==============================] - 0s 280us/sample - loss: 0.0136\n",
            "Epoch 42/100\n",
            "41/41 [==============================] - 0s 318us/sample - loss: 0.0136\n",
            "Epoch 43/100\n",
            "41/41 [==============================] - 0s 302us/sample - loss: 0.0136\n",
            "Epoch 44/100\n",
            "41/41 [==============================] - 0s 298us/sample - loss: 0.0136\n",
            "Epoch 45/100\n",
            "41/41 [==============================] - 0s 316us/sample - loss: 0.0136\n",
            "Epoch 46/100\n",
            "41/41 [==============================] - 0s 331us/sample - loss: 0.0136\n",
            "Epoch 47/100\n",
            "41/41 [==============================] - 0s 357us/sample - loss: 0.0136\n",
            "Epoch 48/100\n",
            "41/41 [==============================] - 0s 340us/sample - loss: 0.0136\n",
            "Epoch 49/100\n",
            "41/41 [==============================] - 0s 297us/sample - loss: 0.0136\n",
            "Epoch 50/100\n",
            "41/41 [==============================] - 0s 312us/sample - loss: 0.0135\n",
            "Epoch 51/100\n",
            "41/41 [==============================] - 0s 230us/sample - loss: 0.0135\n",
            "Epoch 52/100\n",
            "41/41 [==============================] - 0s 294us/sample - loss: 0.0135\n",
            "Epoch 53/100\n",
            "41/41 [==============================] - 0s 283us/sample - loss: 0.0136\n",
            "Epoch 54/100\n",
            "41/41 [==============================] - 0s 340us/sample - loss: 0.0135\n",
            "Epoch 55/100\n",
            "41/41 [==============================] - 0s 343us/sample - loss: 0.0135\n",
            "Epoch 56/100\n",
            "41/41 [==============================] - 0s 337us/sample - loss: 0.0135\n",
            "Epoch 57/100\n",
            "41/41 [==============================] - 0s 336us/sample - loss: 0.0135\n",
            "Epoch 58/100\n",
            "41/41 [==============================] - 0s 421us/sample - loss: 0.0135\n",
            "Epoch 59/100\n",
            "41/41 [==============================] - 0s 293us/sample - loss: 0.0135\n",
            "Epoch 60/100\n",
            "41/41 [==============================] - 0s 275us/sample - loss: 0.0135\n",
            "Epoch 61/100\n",
            "41/41 [==============================] - 0s 213us/sample - loss: 0.0135\n",
            "Epoch 62/100\n",
            "41/41 [==============================] - 0s 295us/sample - loss: 0.0135\n",
            "Epoch 63/100\n",
            "41/41 [==============================] - 0s 383us/sample - loss: 0.0135\n",
            "Epoch 64/100\n",
            "41/41 [==============================] - 0s 312us/sample - loss: 0.0135\n",
            "Epoch 65/100\n",
            "41/41 [==============================] - 0s 313us/sample - loss: 0.0135\n",
            "Epoch 66/100\n",
            "41/41 [==============================] - 0s 324us/sample - loss: 0.0135\n",
            "Epoch 67/100\n",
            "41/41 [==============================] - 0s 296us/sample - loss: 0.0135\n",
            "Epoch 68/100\n",
            "41/41 [==============================] - 0s 242us/sample - loss: 0.0135\n",
            "Epoch 69/100\n",
            "41/41 [==============================] - 0s 253us/sample - loss: 0.0135\n",
            "Epoch 70/100\n",
            "41/41 [==============================] - 0s 247us/sample - loss: 0.0135\n",
            "Epoch 71/100\n",
            "41/41 [==============================] - 0s 281us/sample - loss: 0.0135\n",
            "Epoch 72/100\n",
            "41/41 [==============================] - 0s 284us/sample - loss: 0.0135\n",
            "Epoch 73/100\n",
            "41/41 [==============================] - 0s 320us/sample - loss: 0.0135\n",
            "Epoch 74/100\n",
            "41/41 [==============================] - 0s 323us/sample - loss: 0.0135\n",
            "Epoch 75/100\n",
            "41/41 [==============================] - 0s 308us/sample - loss: 0.0135\n",
            "Epoch 76/100\n",
            "41/41 [==============================] - 0s 287us/sample - loss: 0.0135\n",
            "Epoch 77/100\n",
            "41/41 [==============================] - 0s 221us/sample - loss: 0.0135\n",
            "Epoch 78/100\n",
            "41/41 [==============================] - 0s 220us/sample - loss: 0.0135\n",
            "Epoch 79/100\n",
            "41/41 [==============================] - 0s 318us/sample - loss: 0.0135\n",
            "Epoch 80/100\n",
            "41/41 [==============================] - 0s 442us/sample - loss: 0.0135\n",
            "Epoch 81/100\n",
            "41/41 [==============================] - 0s 213us/sample - loss: 0.0135\n",
            "Epoch 82/100\n",
            "41/41 [==============================] - 0s 261us/sample - loss: 0.0135\n",
            "Epoch 83/100\n",
            "41/41 [==============================] - 0s 457us/sample - loss: 0.0135\n",
            "Epoch 84/100\n",
            "41/41 [==============================] - 0s 363us/sample - loss: 0.0135\n",
            "Epoch 85/100\n",
            "41/41 [==============================] - 0s 541us/sample - loss: 0.0135\n",
            "Epoch 86/100\n",
            "41/41 [==============================] - 0s 242us/sample - loss: 0.0135\n",
            "Epoch 87/100\n",
            "41/41 [==============================] - 0s 320us/sample - loss: 0.0135\n",
            "Epoch 88/100\n",
            "41/41 [==============================] - 0s 377us/sample - loss: 0.0135\n",
            "Epoch 89/100\n",
            "41/41 [==============================] - 0s 342us/sample - loss: 0.0135\n",
            "Epoch 90/100\n",
            "41/41 [==============================] - 0s 313us/sample - loss: 0.0135\n",
            "Epoch 91/100\n",
            "41/41 [==============================] - 0s 336us/sample - loss: 0.0135\n",
            "Epoch 92/100\n",
            "41/41 [==============================] - 0s 409us/sample - loss: 0.0135\n",
            "Epoch 93/100\n",
            "41/41 [==============================] - 0s 255us/sample - loss: 0.0135\n",
            "Epoch 94/100\n",
            "41/41 [==============================] - 0s 223us/sample - loss: 0.0135\n",
            "Epoch 95/100\n",
            "41/41 [==============================] - 0s 249us/sample - loss: 0.0135\n",
            "Epoch 96/100\n",
            "41/41 [==============================] - 0s 333us/sample - loss: 0.0135\n",
            "Epoch 97/100\n",
            "41/41 [==============================] - 0s 299us/sample - loss: 0.0135\n",
            "Epoch 98/100\n",
            "41/41 [==============================] - 0s 312us/sample - loss: 0.0135\n",
            "Epoch 99/100\n",
            "41/41 [==============================] - 0s 326us/sample - loss: 0.0135\n",
            "Epoch 100/100\n",
            "41/41 [==============================] - 0s 396us/sample - loss: 0.0135\n"
          ],
          "name": "stdout"
        }
      ]
    },
    {
      "cell_type": "markdown",
      "metadata": {
        "id": "KRhVDSCDj_pu",
        "colab_type": "text"
      },
      "source": [
        "Plot the loss history values to see if out model converged\n",
        "\n",
        "Because a model can have a history of many  different metrics over time, there is a history object which has a keys dictionary of \n",
        "metrics whose values were stored on each epoch. By plotting the values for the 'loss' key we can answer:\n",
        "\n",
        "\n",
        "1.   Did the loss converge?\n",
        "2.   How many epochs were required for the loss to converge?\n",
        "\n"
      ]
    },
    {
      "cell_type": "code",
      "metadata": {
        "id": "OEXR-tQpjmJw",
        "colab_type": "code",
        "outputId": "38c39761-3ac5-4e1c-b0e1-7034df96a634",
        "colab": {
          "base_uri": "https://localhost:8080/",
          "height": 295
        }
      },
      "source": [
        "train_hist.history['loss'].extend(train_hist_addn.history['loss'])   # add the addition epochs to the  training history\n",
        "plot_loss(train_hist)"
      ],
      "execution_count": 20,
      "outputs": [
        {
          "output_type": "display_data",
          "data": {
            "image/png": "[encoded data removed]",
            "text/plain": [
              "<Figure size 432x288 with 1 Axes>"
            ]
          },
          "metadata": {
            "tags": []
          }
        }
      ]
    },
    {
      "cell_type": "markdown",
      "metadata": {
        "id": "XoTv9B0Inx19",
        "colab_type": "text"
      },
      "source": [
        "### Visually Confirm Model after Additional Training\n",
        "\n",
        "As the  plot showed, the model's loss converged by 1000 epochs.  So the model should be trained to allow us to make accurate predictions.  \n",
        "\n",
        "Let's again plot the predict the price for each siz.  And see if a line drawn with the learned weight and bias looks reasonable.\n"
      ]
    },
    {
      "cell_type": "code",
      "metadata": {
        "id": "lUntqHjoko-n",
        "colab_type": "code",
        "outputId": "f8c768ee-9690-42d7-cc39-48bb5884acd8",
        "colab": {
          "base_uri": "https://localhost:8080/",
          "height": 487
        }
      },
      "source": [
        "# Visualize data and regression line for learned weights\n",
        "price_predicted_scaled =  model.predict(sf_train_scaled)\n",
        "visualize_data(sf_scaler.inverse_transform(sf_train_scaled), \n",
        "               price_scaler.inverse_transform(price_train_scaled),\n",
        "               sf_scaler.inverse_transform(sf_train_scaled), \n",
        "               price_scaler.inverse_transform(price_predicted_scaled),\n",
        "               add_addn_reg_line=False)\n"
      ],
      "execution_count": 22,
      "outputs": [
        {
          "output_type": "display_data",
          "data": {
            "image/png": "[encoded data removed]",
            "text/plain": [
              "<Figure size 576x576 with 1 Axes>"
            ]
          },
          "metadata": {
            "tags": []
          }
        }
      ]
    },
    {
      "cell_type": "markdown",
      "metadata": {
        "id": "YrrEbGQOvUrv",
        "colab_type": "text"
      },
      "source": [
        "**Yes.  The predicted line looks good!!!**"
      ]
    },
    {
      "cell_type": "markdown",
      "metadata": {
        "id": "fZmXIWpZXmwe",
        "colab_type": "text"
      },
      "source": [
        "## Test Trained Model\n",
        "\n",
        "Once we have the model trained, we want to the trained **with data not used to train the model!!!**\n",
        "\n",
        "The use of data not used in training to test the model is key.  If you use training data our testing results will be overly accurate and will not relect *\"real-life\"* usage of trained model to make predictions."
      ]
    },
    {
      "cell_type": "code",
      "metadata": {
        "id": "XjV3pUQ4bP2t",
        "colab_type": "code",
        "outputId": "26c255d9-b7df-4a2e-84dc-0047b74ebc49",
        "colab": {
          "base_uri": "https://localhost:8080/",
          "height": 579
        }
      },
      "source": [
        "# Make a price prediction on data the model has never seen before, i.e. \n",
        "#    the Test data square footage\n",
        "price_test_pred_scaled = model.predict(sf_test_scaled)\n",
        "\n",
        "# calculate the mean squared error for the prediction, lower is better\n",
        "from sklearn.metrics import mean_squared_error\n",
        "print(\"prediction mean squared error:\", \n",
        "          mean_squared_error(price_test_scaled, price_test_pred_scaled ))\n",
        "\n",
        "# Visualize data and regression line \n",
        "#    plus the test square footable and predicted price\n",
        "print('\\nGreen triangles are Test actual Square footage and predicted Price')\n",
        "visualize_data(sf_scaler.inverse_transform(sf_test_scaled),\n",
        "               price_scaler.inverse_transform(price_test_scaled),\n",
        "               sf_scaler.inverse_transform(sf_test_scaled), \n",
        "               price_scaler.inverse_transform(price_test_pred_scaled),\n",
        "               add_addn_reg_line=False)\n",
        "print('\\nOur predicted values fit the data well!')"
      ],
      "execution_count": 23,
      "outputs": [
        {
          "output_type": "stream",
          "text": [
            "prediction mean squared error: 0.01884528934939183\n",
            "\n",
            "Green triangles are Test actual Square footage and predicted Price\n"
          ],
          "name": "stdout"
        },
        {
          "output_type": "display_data",
          "data": {
            "image/png": "[encoded data removed]",
            "text/plain": [
              "<Figure size 576x576 with 1 Axes>"
            ]
          },
          "metadata": {
            "tags": []
          }
        },
        {
          "output_type": "stream",
          "text": [
            "\n",
            "Our predicted values fit the data well!\n"
          ],
          "name": "stdout"
        }
      ]
    },
    {
      "cell_type": "markdown",
      "metadata": {
        "id": "r-otP7n7v4QJ",
        "colab_type": "text"
      },
      "source": [
        "## What we have learned\n",
        "\n",
        "\n",
        "\n",
        "*   In Machine Learning we oftens spend considerable effort getting data in a form were our models can learn from the data.\n",
        "* A single neuron model can learn from data how to learn the appropriate slope and offset for the data \n",
        "*   Building this model was made easier by TensorFlow's implementation of the Keras library\n",
        "*   But to learn from the data we need to pass the data through the model enough times to get the loss to converge\n",
        "*   When we do that, the model learn the data's slope and offset.\n",
        "*  And when we apply these learned values, the predict prices from the test data's Square Footage are reasonable. \n",
        "\n"
      ]
    }
  ]
}